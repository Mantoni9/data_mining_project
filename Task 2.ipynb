{
 "cells": [
  {
   "cell_type": "code",
   "execution_count": 2,
   "id": "2ef098fd-ee40-4773-97a8-8c1b70ff6384",
   "metadata": {},
   "outputs": [],
   "source": [
    "import pandas as pd"
   ]
  },
  {
   "cell_type": "code",
   "execution_count": 17,
   "id": "6bc9ba14-fc46-4491-98b5-e077aa4eaa45",
   "metadata": {},
   "outputs": [
    {
     "name": "stdout",
     "output_type": "stream",
     "text": [
      "       year  month  day  mean_temperature  total_precipitation  isHoliday   \n",
      "0      2022      4   13               9.2                  8.2      False  \\\n",
      "1      2022      4   13               9.2                  8.2      False   \n",
      "2      2022      4   13               9.2                  8.2      False   \n",
      "3      2022      4   13               9.2                  8.2      False   \n",
      "4      2022      4   13               9.2                  8.2      False   \n",
      "...     ...    ...  ...               ...                  ...        ...   \n",
      "39815  2022     10   31               9.5                  0.0      False   \n",
      "39816  2022     10   31               9.5                  0.0      False   \n",
      "39817  2022     10   31               9.5                  0.0      False   \n",
      "39818  2022     10   31               9.5                  0.0      False   \n",
      "39819  2022     10   31               9.5                  0.0      False   \n",
      "\n",
      "       isWeekend  stations_cluster  rides_count  \n",
      "0          False                 0           96  \n",
      "1          False                 2           80  \n",
      "2          False                 4            1  \n",
      "3          False                 5            6  \n",
      "4          False                 7           63  \n",
      "...          ...               ...          ...  \n",
      "39815      False                95           30  \n",
      "39816      False                96           13  \n",
      "39817      False                97            6  \n",
      "39818      False                98           44  \n",
      "39819      False                99          348  \n",
      "\n",
      "[39820 rows x 9 columns]\n"
     ]
    }
   ],
   "source": [
    "df_test = pd.read_csv(\"data/preprocessed_data/t2_test.csv\")\n",
    "print(df_test)"
   ]
  },
  {
   "cell_type": "code",
   "execution_count": null,
   "id": "3e234c50-a401-4ca2-a907-9709ef5a213b",
   "metadata": {},
   "outputs": [],
   "source": []
  }
 ],
 "metadata": {
  "kernelspec": {
   "display_name": ".venv",
   "language": "python",
   "name": ".venv"
  },
  "language_info": {
   "codemirror_mode": {
    "name": "ipython",
    "version": 3
   },
   "file_extension": ".py",
   "mimetype": "text/x-python",
   "name": "python",
   "nbconvert_exporter": "python",
   "pygments_lexer": "ipython3",
   "version": "3.9.6"
  }
 },
 "nbformat": 4,
 "nbformat_minor": 5
}
