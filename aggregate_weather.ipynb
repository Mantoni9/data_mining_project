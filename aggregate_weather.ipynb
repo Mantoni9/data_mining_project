{
 "cells": [
  {
   "cell_type": "code",
   "execution_count": 1,
   "metadata": {},
   "outputs": [],
   "source": [
    "import pandas as pd"
   ]
  },
  {
   "cell_type": "code",
   "execution_count": 6,
   "metadata": {},
   "outputs": [],
   "source": [
    "weather_wo_covid_list = ['data/weather_data/en_climate_daily_QC_7025251_2014_P1D.csv', 'data/weather_data/en_climate_daily_QC_7025251_2015_P1D.csv', 'data/weather_data/en_climate_daily_QC_7025251_2016_P1D.csv',\n",
    "                          'data/weather_data/en_climate_daily_QC_7025251_2016_P1D.csv', 'data/weather_data/en_climate_daily_QC_7025251_2017_P1D.csv', 'data/weather_data/en_climate_daily_QC_7025251_2018_P1D.csv',\n",
    "                          'data/weather_data/en_climate_daily_QC_7025251_2019_P1D.csv','data/weather_data/en_climate_daily_QC_7025251_2022_P1D.csv']\n",
    "\n",
    "df_weather_wo_covid = []\n",
    "\n",
    "\n",
    "for file in weather_wo_covid_list:\n",
    "    df = pd.read_csv(file)\n",
    "    df_weather_wo_covid.append(df)\n",
    "\n",
    "df_weather_wo_covid = pd.concat(df_weather_wo_covid)\n",
    "df_weather_wo_covid.to_csv('data/preprocessed_data/weather_wo_covid.csv')"
   ]
  },
  {
   "cell_type": "code",
   "execution_count": 7,
   "metadata": {},
   "outputs": [],
   "source": [
    "weather_covid_list = ['data/weather_data/en_climate_daily_QC_7025251_2020_P1D.csv', 'data/weather_data/en_climate_daily_QC_7025251_2021_P1D.csv']\n",
    "df_weather_covid = []\n",
    "\n",
    "for file in weather_covid_list:\n",
    "     df = pd.read_csv(file)\n",
    "     df_weather_covid.append(df)\n",
    "\n",
    "df_weather_covid = pd.concat(df_weather_covid)\n",
    "df_weather_covid.to_csv('data/preprocessed_data/weather_covid.csv')"
   ]
  }
 ],
 "metadata": {
  "kernelspec": {
   "display_name": "base",
   "language": "python",
   "name": "python3"
  },
  "language_info": {
   "codemirror_mode": {
    "name": "ipython",
    "version": 3
   },
   "file_extension": ".py",
   "mimetype": "text/x-python",
   "name": "python",
   "nbconvert_exporter": "python",
   "pygments_lexer": "ipython3",
   "version": "3.9.12"
  },
  "orig_nbformat": 4
 },
 "nbformat": 4,
 "nbformat_minor": 2
}
