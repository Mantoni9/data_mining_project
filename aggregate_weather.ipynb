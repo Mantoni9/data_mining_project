{
 "cells": [
  {
   "cell_type": "code",
   "execution_count": 1,
   "metadata": {},
   "outputs": [],
   "source": [
    "import pandas as pd"
   ]
  },
  {
   "cell_type": "code",
   "execution_count": 2,
   "metadata": {},
   "outputs": [],
   "source": [
    "weather_list = ['data/weather_data/en_climate_daily_QC_7025251_2014_P1D.csv', 'data/weather_data/en_climate_daily_QC_7025251_2015_P1D.csv', 'data/weather_data/en_climate_daily_QC_7025251_2016_P1D.csv',\n",
    "                          'data/weather_data/en_climate_daily_QC_7025251_2016_P1D.csv', 'data/weather_data/en_climate_daily_QC_7025251_2017_P1D.csv', 'data/weather_data/en_climate_daily_QC_7025251_2018_P1D.csv',\n",
    "                          'data/weather_data/en_climate_daily_QC_7025251_2019_P1D.csv', 'data/weather_data/en_climate_daily_QC_7025251_2020_P1D.csv', 'data/weather_data/en_climate_daily_QC_7025251_2021_P1D.csv', 'data/weather_data/en_climate_daily_QC_7025251_2022_P1D.csv']\n",
    "\n",
    "df_weather = []\n",
    "\n",
    "\n",
    "for file in weather_list:\n",
    "    df = pd.read_csv(file)\n",
    "    df_weather.append(df)\n",
    "\n",
    "df_weather = pd.concat(df_weather)\n",
    "df_weather.to_csv('data/preprocessed_data/weather.csv')"
   ]
  }
 ],
 "metadata": {
  "kernelspec": {
   "display_name": ".venv",
   "language": "python",
   "name": ".venv"
  },
  "language_info": {
   "codemirror_mode": {
    "name": "ipython",
    "version": 3
   },
   "file_extension": ".py",
   "mimetype": "text/x-python",
   "name": "python",
   "nbconvert_exporter": "python",
   "pygments_lexer": "ipython3",
   "version": "3.9.6"
  }
 },
 "nbformat": 4,
 "nbformat_minor": 4
}
