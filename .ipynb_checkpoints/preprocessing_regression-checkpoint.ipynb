{
 "cells": [
  {
   "cell_type": "code",
   "execution_count": 39,
   "id": "d118b338-465b-4211-bd82-ae2c2d114f3b",
   "metadata": {},
   "outputs": [],
   "source": [
    "import pandas as pd\n",
    "import matplotlib.pyplot as plt\n",
    "import numpy as np\n",
    "from numpy import cos, sin, arcsin, sqrt\n",
    "from math import radians\n",
    "from datetime import date\n",
    "import holidays\n",
    "from sklearn.cluster import KMeans\n",
    "from scipy import stats\n",
    "\n",
    "from sklearn.model_selection import train_test_split\n",
    "from sklearn.ensemble import RandomForestRegressor, GradientBoostingRegressor\n",
    "from sklearn.metrics import mean_squared_error\n",
    "\n",
    "import tensorflow as tf\n",
    "from tensorflow.keras.models import Sequential\n",
    "from tensorflow.keras.layers import Dense\n",
    "from sklearn.preprocessing import StandardScaler, OneHotEncoder, MinMaxScaler\n",
    "\n",
    "from catboost import CatBoostRegressor\n",
    "from sklearn.model_selection import train_test_split"
   ]
  },
  {
   "cell_type": "markdown",
   "id": "e3be652b-7fce-4c0d-b04c-cfce727277ae",
   "metadata": {},
   "source": [
    "## Pre processing for task 2"
   ]
  },
  {
   "cell_type": "code",
   "execution_count": 40,
   "id": "adfc4fce-a469-45fd-87a9-7fdaf49c55ae",
   "metadata": {},
   "outputs": [],
   "source": [
    "# List with files for stations 2022\n",
    "def prepare_stations():\n",
    "    lst = []\n",
    "    for year in range(2014, 2023):\n",
    "        df = pd.read_csv(f'data/stations/Stations_{year}.csv')\n",
    "        lst.append(df)\n",
    "    \n",
    "    # Remove Duplicates\n",
    "    df_stations = pd.concat(lst, ignore_index=True)\n",
    "    df_stations.drop_duplicates(subset=['code'], inplace=True, keep=\"first\")\n",
    "    df_stations.to_csv(\"data/regression_analysis/all_stations.csv\")\n",
    "    \n",
    "    def distanceToCenter(row):\n",
    "        lon1 = -73.554167\n",
    "        lat1 = 45.508888\n",
    "        lon2 = row['longitude']\n",
    "        lat2 = row['latitude']\n",
    "        lon1, lat1, lon2, lat2 = map(radians, [lon1, lat1, lon2, lat2])\n",
    "        dlon = lon2 - lon1 \n",
    "        dlat = lat2 - lat1 \n",
    "        a = sin(dlat/2)**2 + cos(lat1) * cos(lat2) * sin(dlon/2)**2\n",
    "        c = 2 * arcsin(sqrt(a)) \n",
    "        km = 6367 * c\n",
    "        return km\n",
    "    \n",
    "    df_stations_2022 = pd.read_csv('data/stations/Stations_2022.csv')\n",
    "    df_stations['distance_to_center'] = df_stations_2022.apply(lambda row: distanceToCenter(row), axis=1)\n",
    "    coordinates = df_stations[['latitude', 'longitude']]\n",
    "    kmeans = KMeans(n_clusters=50, random_state=0).fit(coordinates)\n",
    "    df_stations['stations_cluster'] =  kmeans.labels_\n",
    "    \n",
    "    df_stations.to_csv(\"data/regression_analysis/all_stations_clustered.csv\")\n",
    "    return df_stations"
   ]
  },
  {
   "cell_type": "code",
   "execution_count": 41,
   "id": "bdcc6606-2470-4380-9da4-01e8babe22fc",
   "metadata": {},
   "outputs": [],
   "source": [
    "holidaysCanada = holidays.country_holidays('CA', subdiv='QC')\n",
    "\n",
    "def all_rides(start_year, end_year):\n",
    "    all_rides = pd.DataFrame()\n",
    "    for year in range(start_year, end_year + 1):\n",
    "        for month in range(4, 11):\n",
    "            rides_file_path = f'data/bike_rides/OD_{year}-{month:02d}.csv'\n",
    "            df = pd.read_csv(rides_file_path, parse_dates=[\"start_date\", \"end_date\"])\n",
    "            all_rides = pd.concat([all_rides, df])\n",
    "    all_rides['year'] = all_rides['start_date'].dt.year\n",
    "    all_rides['month'] = all_rides['start_date'].dt.month\n",
    "    all_rides['weekday'] = all_rides['start_date'].dt.weekday\n",
    "    all_rides['is_holiday'] = all_rides['start_date'].apply(lambda x: x.date() in holidaysCanada)\n",
    "    all_rides['is_weekend'] = all_rides['start_date'].dt.weekday > 4\n",
    "    all_rides['start_date'] = pd.to_datetime(all_rides['start_date']).dt.date\n",
    "    return all_rides\n",
    "\n",
    "def get_weather():\n",
    "    df_weather = pd.read_csv('data/preprocessed_data/weather.csv', parse_dates=[4])\n",
    "    df_weather.columns = df_weather.columns.str.lower()\n",
    "    df_weather = df_weather[[\"date/time\", \"mean temp (°c)\", \"total precip (mm)\"]]\n",
    "    df_weather = df_weather.rename(columns={\"date/time\": \"tmp_date\",'mean temp (°c)': 'mean_temperature','total precip (mm)': 'total_precipitation'})\n",
    "    df_weather['tmp_date'] = pd.to_datetime(df_weather['tmp_date']).dt.date\n",
    "    \n",
    "    # interpolate missing data\n",
    "    df_weather[['mean_temperature','total_precipitation']] = df_weather[['mean_temperature','total_precipitation']].interpolate()\n",
    "    return df_weather\n",
    "\n",
    "def include_clusters(rides_df, stations_df):\n",
    "    merged_df = pd.merge(rides_df, stations_df, left_on='start_station_code', right_on='code', how='left')\n",
    "    merged_df = merged_df.rename(columns={'stations_cluster': 'start_station_cluster'})\n",
    "    merged_df.drop('code', axis=1, inplace=True)\n",
    "    \n",
    "    merged_df = pd.merge(merged_df, stations_df, left_on='end_station_code', right_on='code', how='left')\n",
    "    merged_df = merged_df.rename(columns={'stations_cluster': 'end_station_cluster'})\n",
    "    merged_df.drop('code', axis=1, inplace=True)\n",
    "    \n",
    "    grouped_df = merged_df.groupby(['start_date', 'start_station_cluster', 'end_station_cluster']).agg(count=('start_date', 'size'), duration_sec=('duration_sec', 'mean'), is_holiday=(\"is_holiday\", \"first\"), is_weekend=(\"is_weekend\", \"first\")).reset_index()\n",
    "    return grouped_df\n",
    "    \n",
    "def include_weather(grouped, weather):\n",
    "    w_weather = grouped.merge(weather, left_on='start_date', right_on='tmp_date', how='left')\n",
    "    w_weather.drop('tmp_date', axis=1, inplace=True)\n",
    "    return w_weather\n",
    "\n",
    "# run this function to complete the pre-processing for the regression analysis\n",
    "def complete_pre_task2():\n",
    "    # Training\n",
    "    rides = all_rides(2014, 2018)\n",
    "    stations = prepare_stations()[[\"code\", \"stations_cluster\"]]\n",
    "    grouped = include_clusters(rides, stations)\n",
    "    weather = get_weather()\n",
    "    include_weather(grouped, weather).to_csv(\"data/regression_analysis/pre_task2_2014_2018.csv\")\n",
    "    \n",
    "    # Validation\n",
    "    rides = all_rides(2019, 2019)\n",
    "    stations = prepare_stations()[[\"code\", \"stations_cluster\"]]\n",
    "    grouped = include_clusters(rides, stations)\n",
    "    weather = get_weather()\n",
    "    include_weather(grouped, weather).to_csv(\"data/regression_analysis/pre_task2_2019.csv\")\n",
    "    \n",
    "    # Test\n",
    "    rides = all_rides(2022, 2022)\n",
    "    rides = rides.rename(columns={'emplacement_pk_start': 'start_station_code',\n",
    "                                        'emplacement_pk_end': 'end_station_code'})\n",
    "    stations = prepare_stations()[[\"code\", \"stations_cluster\"]]\n",
    "    grouped = include_clusters(rides, stations)\n",
    "    weather = get_weather()\n",
    "    include_weather(grouped, weather).to_csv(\"data/regression_analysis/pre_task2_2022.csv\")"
   ]
  },
  {
   "cell_type": "markdown",
   "id": "aa070c2c-5b94-4059-982f-7388f39d01ac",
   "metadata": {},
   "source": [
    "## Dataset profile and structure"
   ]
  },
  {
   "cell_type": "code",
   "execution_count": 42,
   "id": "a9939030-d234-4aaa-bc97-64d29b2e7b6d",
   "metadata": {},
   "outputs": [
    {
     "data": {
      "image/png": "[encoded data removed]",
      "text/plain": [
       "<Figure size 640x480 with 1 Axes>"
      ]
     },
     "metadata": {},
     "output_type": "display_data"
    }
   ],
   "source": [
    "all_data = pd.concat([pd.read_csv(\"data/regression_analysis/pre_task2_2014_2018.csv\", index_col=0, parse_dates=[\"start_date\"]), pd.read_csv(\"data/regression_analysis/pre_task2_2019.csv\", index_col=0, parse_dates=[\"start_date\"]), pd.read_csv(\"data/regression_analysis/pre_task2_2022.csv\", index_col=0, parse_dates=[\"start_date\"])])  \n",
    "\n",
    "all_data[\"year\"] = all_data[\"start_date\"].dt.year\n",
    "all_data = all_data[[\"year\", \"count\"]].groupby(\"year\").sum()\n",
    "\n",
    "ax = all_data.plot(kind='bar', legend=False)\n",
    "plt.xlabel('Year')\n",
    "plt.ylabel('Count')\n",
    "plt.title('Number of rides by Year')\n",
    "\n",
    "for p in ax.patches:\n",
    "    ax.annotate(format(p.get_height(), ','), (p.get_x() + p.get_width() / 2., p.get_height()),\n",
    "                ha='center', va='center', xytext=(0, 5), textcoords='offset points')"
   ]
  }
 ],
 "metadata": {
  "kernelspec": {
   "display_name": ".venv",
   "language": "python",
   "name": ".venv"
  },
  "language_info": {
   "codemirror_mode": {
    "name": "ipython",
    "version": 3
   },
   "file_extension": ".py",
   "mimetype": "text/x-python",
   "name": "python",
   "nbconvert_exporter": "python",
   "pygments_lexer": "ipython3",
   "version": "3.9.6"
  }
 },
 "nbformat": 4,
 "nbformat_minor": 5
}
