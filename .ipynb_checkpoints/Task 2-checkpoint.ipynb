{
 "cells": [
  {
   "cell_type": "code",
   "execution_count": 2,
   "id": "2ef098fd-ee40-4773-97a8-8c1b70ff6384",
   "metadata": {},
   "outputs": [],
   "source": [
    "import pandas as pd"
   ]
  },
  {
   "cell_type": "code",
   "execution_count": 13,
   "id": "6bc9ba14-fc46-4491-98b5-e077aa4eaa45",
   "metadata": {},
   "outputs": [
    {
     "name": "stdout",
     "output_type": "stream",
     "text": [
      "0        13\n",
      "1        13\n",
      "2        13\n",
      "3        13\n",
      "4        13\n",
      "         ..\n",
      "39815    31\n",
      "39816    31\n",
      "39817    31\n",
      "39818    31\n",
      "39819    31\n",
      "Name: day, Length: 39820, dtype: int64\n"
     ]
    }
   ],
   "source": [
    "df_test = pd.read_csv(\"data/preprocessed_data/t2_test.csv\")\n",
    "print(df_test)"
   ]
  }
 ],
 "metadata": {
  "kernelspec": {
   "display_name": ".venv",
   "language": "python",
   "name": ".venv"
  },
  "language_info": {
   "codemirror_mode": {
    "name": "ipython",
    "version": 3
   },
   "file_extension": ".py",
   "mimetype": "text/x-python",
   "name": "python",
   "nbconvert_exporter": "python",
   "pygments_lexer": "ipython3",
   "version": "3.9.6"
  }
 },
 "nbformat": 4,
 "nbformat_minor": 5
}
