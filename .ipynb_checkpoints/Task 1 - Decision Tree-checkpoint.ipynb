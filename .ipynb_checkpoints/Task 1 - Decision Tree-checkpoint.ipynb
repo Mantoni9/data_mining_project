{
 "cells": [
  {
   "cell_type": "markdown",
   "id": "3e3cbd70",
   "metadata": {},
   "source": [
    "# Task 1\n",
    "\n",
    "The purpose of this task is to classify the demand for bikes on a specific day using predefined labels. The first stage of this will be to find appropriate values to use for the labels.\n",
    "\n",
    "<a id='content'></a>\n",
    "## Contents:\n",
    "- [Preprocessing](#prep) - can skip running as data is reloaded at the start of the models\n",
    "- [Models](#mods)"
   ]
  },
  {
   "cell_type": "code",
   "execution_count": 50,
   "id": "d7210833",
   "metadata": {},
   "outputs": [],
   "source": [
    "# Packages\n",
    "import pandas as pd\n",
    "import numpy as np\n",
    "import matplotlib.pyplot as plt\n",
    "\n",
    "from sklearn import preprocessing\n",
    "from sklearn.compose import ColumnTransformer\n",
    "from sklearn.pipeline import Pipeline\n",
    "from sklearn.neighbors import KNeighborsClassifier\n",
    "from sklearn.model_selection import cross_val_score\n",
    "from sklearn.model_selection import StratifiedKFold\n",
    "from sklearn.metrics import confusion_matrix\n",
    "from sklearn.tree import DecisionTreeClassifier"
   ]
  },
  {
   "cell_type": "markdown",
   "id": "9fe5d62d",
   "metadata": {},
   "source": [
    "<a id='prep'></a>\n",
    "## Preprocessing\n",
    "[Back to contents](#content)"
   ]
  },
  {
   "cell_type": "code",
   "execution_count": 2,
   "id": "aa7b800a",
   "metadata": {},
   "outputs": [],
   "source": [
    "# Read in the data\n",
    "train_data = pd.read_csv(\"./data/preprocessed_data/train.csv\")"
   ]
  },
  {
   "cell_type": "markdown",
   "id": "b9350d99",
   "metadata": {},
   "source": [
    "For the dataset for this task, we need data about the day, but not about individual stations. There should be one entry for each morning and afternoon, together with the weather data or other features for the whole day."
   ]
  },
  {
   "cell_type": "code",
   "execution_count": 3,
   "id": "b5129752",
   "metadata": {},
   "outputs": [
    {
     "data": {
      "text/html": [
       "<div>\n",
       "<style scoped>\n",
       "    .dataframe tbody tr th:only-of-type {\n",
       "        vertical-align: middle;\n",
       "    }\n",
       "\n",
       "    .dataframe tbody tr th {\n",
       "        vertical-align: top;\n",
       "    }\n",
       "\n",
       "    .dataframe thead th {\n",
       "        text-align: right;\n",
       "    }\n",
       "</style>\n",
       "<table border=\"1\" class=\"dataframe\">\n",
       "  <thead>\n",
       "    <tr style=\"text-align: right;\">\n",
       "      <th></th>\n",
       "      <th>year</th>\n",
       "      <th>month</th>\n",
       "      <th>day</th>\n",
       "      <th>am_pm</th>\n",
       "      <th>rides_count</th>\n",
       "      <th>weekday</th>\n",
       "      <th>isHoliday</th>\n",
       "      <th>isWeekend</th>\n",
       "      <th>mean_temperature</th>\n",
       "      <th>total_precipitation</th>\n",
       "    </tr>\n",
       "  </thead>\n",
       "  <tbody>\n",
       "    <tr>\n",
       "      <th>0</th>\n",
       "      <td>2014</td>\n",
       "      <td>4</td>\n",
       "      <td>15</td>\n",
       "      <td>False</td>\n",
       "      <td>742</td>\n",
       "      <td>1</td>\n",
       "      <td>False</td>\n",
       "      <td>False</td>\n",
       "      <td>5.6</td>\n",
       "      <td>9.0</td>\n",
       "    </tr>\n",
       "    <tr>\n",
       "      <th>1</th>\n",
       "      <td>2014</td>\n",
       "      <td>4</td>\n",
       "      <td>15</td>\n",
       "      <td>True</td>\n",
       "      <td>835</td>\n",
       "      <td>1</td>\n",
       "      <td>False</td>\n",
       "      <td>False</td>\n",
       "      <td>5.6</td>\n",
       "      <td>9.0</td>\n",
       "    </tr>\n",
       "    <tr>\n",
       "      <th>2</th>\n",
       "      <td>2014</td>\n",
       "      <td>4</td>\n",
       "      <td>16</td>\n",
       "      <td>False</td>\n",
       "      <td>2462</td>\n",
       "      <td>2</td>\n",
       "      <td>False</td>\n",
       "      <td>False</td>\n",
       "      <td>-3.4</td>\n",
       "      <td>0.0</td>\n",
       "    </tr>\n",
       "    <tr>\n",
       "      <th>3</th>\n",
       "      <td>2014</td>\n",
       "      <td>4</td>\n",
       "      <td>16</td>\n",
       "      <td>True</td>\n",
       "      <td>718</td>\n",
       "      <td>2</td>\n",
       "      <td>False</td>\n",
       "      <td>False</td>\n",
       "      <td>-3.4</td>\n",
       "      <td>0.0</td>\n",
       "    </tr>\n",
       "    <tr>\n",
       "      <th>4</th>\n",
       "      <td>2014</td>\n",
       "      <td>4</td>\n",
       "      <td>17</td>\n",
       "      <td>False</td>\n",
       "      <td>4178</td>\n",
       "      <td>3</td>\n",
       "      <td>False</td>\n",
       "      <td>False</td>\n",
       "      <td>2.4</td>\n",
       "      <td>0.0</td>\n",
       "    </tr>\n",
       "  </tbody>\n",
       "</table>\n",
       "</div>"
      ],
      "text/plain": [
       "   year  month  day  am_pm  rides_count  weekday  isHoliday  isWeekend  \\\n",
       "0  2014      4   15  False          742        1      False      False   \n",
       "1  2014      4   15   True          835        1      False      False   \n",
       "2  2014      4   16  False         2462        2      False      False   \n",
       "3  2014      4   16   True          718        2      False      False   \n",
       "4  2014      4   17  False         4178        3      False      False   \n",
       "\n",
       "   mean_temperature  total_precipitation  \n",
       "0               5.6                  9.0  \n",
       "1               5.6                  9.0  \n",
       "2              -3.4                  0.0  \n",
       "3              -3.4                  0.0  \n",
       "4               2.4                  0.0  "
      ]
     },
     "execution_count": 3,
     "metadata": {},
     "output_type": "execute_result"
    }
   ],
   "source": [
    "# Keeping the feature data for each day\n",
    "day_data_cols = ['year', 'month', 'day', 'weekday', 'isHoliday', 'isWeekend', 'mean_temperature', 'total_precipitation']\n",
    "day_data = train_data[day_data_cols].drop_duplicates(subset=day_data_cols, keep='first')\n",
    "\n",
    "# Grouping the ride counts for each am and pm\n",
    "train_new = train_data[['year', 'month', 'day', 'am_pm', 'rides_count']].groupby(['year', 'month', 'day', 'am_pm'], as_index=False)['rides_count'].sum()\n",
    "train_new = train_new.merge(day_data, how='left', on=['year', 'month', 'day'])\n",
    "\n",
    "train_new.head()"
   ]
  },
  {
   "cell_type": "markdown",
   "id": "f306430b",
   "metadata": {},
   "source": [
    "Now this data has been created, want to examine the distribution with some plots. This should give ideas for the labels to use for categories of ride counts."
   ]
  },
  {
   "cell_type": "code",
   "execution_count": 4,
   "id": "763a99c8",
   "metadata": {},
   "outputs": [
    {
     "data": {
      "image/png": "[encoded data removed]",
      "text/plain": [
       "<Figure size 640x480 with 1 Axes>"
      ]
     },
     "metadata": {},
     "output_type": "display_data"
    }
   ],
   "source": [
    "def dist_plot():\n",
    "    plt.hist(train_new['rides_count'], bins=range(0,50000, 1000))\n",
    "\n",
    "    plt.xlabel('Number of rides')\n",
    "    plt.ylabel('Frequency')\n",
    "\n",
    "dist_plot()\n",
    "plt.title('Frequency of the number of rides in each half day')\n",
    "plt.show()"
   ]
  },
  {
   "cell_type": "markdown",
   "id": "b23fe26e",
   "metadata": {},
   "source": [
    "It will be interesting to try different numbers of labels. For now, will create two versions. Three labels (low, medium and high) and five labels (very low, low, medium, high, very high). These will be implemented using numeric values for easier use later. These will be chosen by evenly dividing the data."
   ]
  },
  {
   "cell_type": "code",
   "execution_count": 5,
   "id": "7400719a",
   "metadata": {},
   "outputs": [
    {
     "name": "stdout",
     "output_type": "stream",
     "text": [
      "[6656, 13611] [5041, 7317, 12097, 16004]\n"
     ]
    }
   ],
   "source": [
    "all_counts = list(train_new['rides_count'])\n",
    "all_counts.sort()\n",
    "\n",
    "# Thresholds for split into 3\n",
    "label3_split = []\n",
    "for i in range(1,3):\n",
    "    label3 = all_counts[round(i*len(all_counts)/3)]\n",
    "    label3_split.append(label3)\n",
    "\n",
    "#Thresholds for split into 5\n",
    "label5_split = []\n",
    "for i in range(1,5):\n",
    "    label5 = all_counts[round(i*len(all_counts)/5)]\n",
    "    label5_split.append(label5)\n",
    "    \n",
    "print(label3_split, label5_split)"
   ]
  },
  {
   "cell_type": "code",
   "execution_count": 6,
   "id": "86bcbd9c",
   "metadata": {},
   "outputs": [
    {
     "data": {
      "image/png": "[encoded data removed]",
      "text/plain": [
       "<Figure size 640x480 with 1 Axes>"
      ]
     },
     "metadata": {},
     "output_type": "display_data"
    }
   ],
   "source": [
    "dist_plot()\n",
    "for i in label3_split:\n",
    "    plt.axvline(x=i, color='red', linestyle='dashed')\n",
    "plt.title('Frequency of the number of rides in each half day with 3 part label thresholds')\n",
    "plt.show()"
   ]
  },
  {
   "cell_type": "code",
   "execution_count": 7,
   "id": "0ce60628",
   "metadata": {},
   "outputs": [
    {
     "data": {
      "image/png": "[encoded data removed]",
      "text/plain": [
       "<Figure size 640x480 with 1 Axes>"
      ]
     },
     "metadata": {},
     "output_type": "display_data"
    }
   ],
   "source": [
    "dist_plot()\n",
    "for i in label5_split:\n",
    "    plt.axvline(x=i, color='red', linestyle='dashed')\n",
    "plt.title('Frequency of the number of rides in each half day with 5 part label thresholds')\n",
    "plt.show()"
   ]
  },
  {
   "cell_type": "markdown",
   "id": "1f24ccbf",
   "metadata": {},
   "source": [
    "The data table should now have values added in for these labels."
   ]
  },
  {
   "cell_type": "code",
   "execution_count": 8,
   "id": "723222e3",
   "metadata": {},
   "outputs": [
    {
     "data": {
      "text/html": [
       "<div>\n",
       "<style scoped>\n",
       "    .dataframe tbody tr th:only-of-type {\n",
       "        vertical-align: middle;\n",
       "    }\n",
       "\n",
       "    .dataframe tbody tr th {\n",
       "        vertical-align: top;\n",
       "    }\n",
       "\n",
       "    .dataframe thead th {\n",
       "        text-align: right;\n",
       "    }\n",
       "</style>\n",
       "<table border=\"1\" class=\"dataframe\">\n",
       "  <thead>\n",
       "    <tr style=\"text-align: right;\">\n",
       "      <th></th>\n",
       "      <th>year</th>\n",
       "      <th>month</th>\n",
       "      <th>day</th>\n",
       "      <th>am_pm</th>\n",
       "      <th>rides_count</th>\n",
       "      <th>weekday</th>\n",
       "      <th>isHoliday</th>\n",
       "      <th>isWeekend</th>\n",
       "      <th>mean_temperature</th>\n",
       "      <th>total_precipitation</th>\n",
       "      <th>label3</th>\n",
       "      <th>label5</th>\n",
       "    </tr>\n",
       "  </thead>\n",
       "  <tbody>\n",
       "    <tr>\n",
       "      <th>0</th>\n",
       "      <td>2014</td>\n",
       "      <td>4</td>\n",
       "      <td>15</td>\n",
       "      <td>False</td>\n",
       "      <td>742</td>\n",
       "      <td>1</td>\n",
       "      <td>False</td>\n",
       "      <td>False</td>\n",
       "      <td>5.6</td>\n",
       "      <td>9.0</td>\n",
       "      <td>1</td>\n",
       "      <td>1</td>\n",
       "    </tr>\n",
       "    <tr>\n",
       "      <th>1</th>\n",
       "      <td>2014</td>\n",
       "      <td>4</td>\n",
       "      <td>15</td>\n",
       "      <td>True</td>\n",
       "      <td>835</td>\n",
       "      <td>1</td>\n",
       "      <td>False</td>\n",
       "      <td>False</td>\n",
       "      <td>5.6</td>\n",
       "      <td>9.0</td>\n",
       "      <td>1</td>\n",
       "      <td>1</td>\n",
       "    </tr>\n",
       "    <tr>\n",
       "      <th>2</th>\n",
       "      <td>2014</td>\n",
       "      <td>4</td>\n",
       "      <td>16</td>\n",
       "      <td>False</td>\n",
       "      <td>2462</td>\n",
       "      <td>2</td>\n",
       "      <td>False</td>\n",
       "      <td>False</td>\n",
       "      <td>-3.4</td>\n",
       "      <td>0.0</td>\n",
       "      <td>1</td>\n",
       "      <td>1</td>\n",
       "    </tr>\n",
       "    <tr>\n",
       "      <th>3</th>\n",
       "      <td>2014</td>\n",
       "      <td>4</td>\n",
       "      <td>16</td>\n",
       "      <td>True</td>\n",
       "      <td>718</td>\n",
       "      <td>2</td>\n",
       "      <td>False</td>\n",
       "      <td>False</td>\n",
       "      <td>-3.4</td>\n",
       "      <td>0.0</td>\n",
       "      <td>1</td>\n",
       "      <td>1</td>\n",
       "    </tr>\n",
       "    <tr>\n",
       "      <th>4</th>\n",
       "      <td>2014</td>\n",
       "      <td>4</td>\n",
       "      <td>17</td>\n",
       "      <td>False</td>\n",
       "      <td>4178</td>\n",
       "      <td>3</td>\n",
       "      <td>False</td>\n",
       "      <td>False</td>\n",
       "      <td>2.4</td>\n",
       "      <td>0.0</td>\n",
       "      <td>1</td>\n",
       "      <td>1</td>\n",
       "    </tr>\n",
       "  </tbody>\n",
       "</table>\n",
       "</div>"
      ],
      "text/plain": [
       "   year  month  day  am_pm  rides_count  weekday  isHoliday  isWeekend  \\\n",
       "0  2014      4   15  False          742        1      False      False   \n",
       "1  2014      4   15   True          835        1      False      False   \n",
       "2  2014      4   16  False         2462        2      False      False   \n",
       "3  2014      4   16   True          718        2      False      False   \n",
       "4  2014      4   17  False         4178        3      False      False   \n",
       "\n",
       "   mean_temperature  total_precipitation  label3  label5  \n",
       "0               5.6                  9.0       1       1  \n",
       "1               5.6                  9.0       1       1  \n",
       "2              -3.4                  0.0       1       1  \n",
       "3              -3.4                  0.0       1       1  \n",
       "4               2.4                  0.0       1       1  "
      ]
     },
     "execution_count": 8,
     "metadata": {},
     "output_type": "execute_result"
    }
   ],
   "source": [
    "train_new['label3'] = np.select([train_new['rides_count']<label3_split[0],\n",
    "                                 train_new['rides_count'].between(label3_split[0],label3_split[1])],\n",
    "                                [1,2],3)\n",
    "train_new['label5'] = np.select([train_new['rides_count']<label5_split[0],\n",
    "                                 train_new['rides_count'].between(label5_split[0],label5_split[1]),\n",
    "                                 train_new['rides_count'].between(label5_split[1],label5_split[2]),\n",
    "                                 train_new['rides_count'].between(label5_split[2],label5_split[3])],\n",
    "                                [1,2,3,4],5)\n",
    "\n",
    "train_new.head()"
   ]
  },
  {
   "cell_type": "markdown",
   "id": "a1b9fa7b",
   "metadata": {},
   "source": [
    "Now need to carry out the same processing on the validation and test data and add the labels. Then both files can be saved."
   ]
  },
  {
   "cell_type": "code",
   "execution_count": 46,
   "id": "e868b0ca",
   "metadata": {},
   "outputs": [],
   "source": [
    "valid_data = pd.read_csv(\"./data/preprocessed_data/valid.csv\")\n",
    "\n",
    "day_data = valid_data[day_data_cols].drop_duplicates(subset=day_data_cols, keep='first')\n",
    "valid_new = valid_data[['year', 'month', 'day', 'am_pm', 'rides_count']].groupby(['year', 'month', 'day', 'am_pm'], as_index=False)['rides_count'].sum()\n",
    "valid_new = valid_new.merge(day_data, how='left', on=['year', 'month', 'day'])\n",
    "\n",
    "valid_new['label3'] = np.select([valid_new['rides_count']<label3_split[0],\n",
    "                                 valid_new['rides_count'].between(label3_split[0],label3_split[1])],\n",
    "                                [1,2],3)\n",
    "valid_new['label5'] = np.select([valid_new['rides_count']<label5_split[0],\n",
    "                                 valid_new['rides_count'].between(label5_split[0],label5_split[1]),\n",
    "                                 valid_new['rides_count'].between(label5_split[1],label5_split[2]),\n",
    "                                 valid_new['rides_count'].between(label5_split[2],label5_split[3])],\n",
    "                                [1,2,3,4],5)\n",
    "\n",
    "test_data = pd.read_csv(\"./data/preprocessed_data/test.csv\")\n",
    "\n",
    "day_data = test_data[day_data_cols].drop_duplicates(subset=day_data_cols, keep='first')\n",
    "test_new = test_data[['year', 'month', 'day', 'am_pm', 'rides_count']].groupby(['year', 'month', 'day', 'am_pm'], as_index=False)['rides_count'].sum()\n",
    "test_new = test_new.merge(day_data, how='left', on=['year', 'month', 'day'])\n",
    "\n",
    "test_new['label3'] = np.select([test_new['rides_count']<label3_split[0],\n",
    "                                 test_new['rides_count'].between(label3_split[0],label3_split[1])],\n",
    "                                [1,2],3)\n",
    "test_new['label5'] = np.select([test_new['rides_count']<label5_split[0],\n",
    "                                 test_new['rides_count'].between(label5_split[0],label5_split[1]),\n",
    "                                 test_new['rides_count'].between(label5_split[1],label5_split[2]),\n",
    "                                 test_new['rides_count'].between(label5_split[2],label5_split[3])],\n",
    "                                [1,2,3,4],5)\n",
    "\n",
    "train_new.to_csv(\"data/preprocessed_data/t1_train.csv\", index=False)\n",
    "valid_new.to_csv(\"data/preprocessed_data/t1_valid.csv\", index=False)\n",
    "test_new.to_csv(\"data/preprocessed_data/t1_test.csv\", index=False)"
   ]
  },
  {
   "cell_type": "markdown",
   "id": "7a20efbb",
   "metadata": {},
   "source": [
    "<a id='mods'></a>\n",
    "## Models\n",
    "[Back to contents](#content)\n",
    "\n",
    "1. [KNN](#KNN)\n",
    "\n",
    "First to read in the data, for if the earlier cells have not been run."
   ]
  },
  {
   "cell_type": "code",
   "execution_count": 11,
   "id": "4c0927ca",
   "metadata": {},
   "outputs": [],
   "source": [
    "train_new = pd.read_csv(\"./data/preprocessed_data/t1_train.csv\")\n",
    "valid_new = pd.read_csv(\"./data/preprocessed_data/t1_valid.csv\")\n",
    "test_new = pd.read_csv(\"./data/preprocessed_data/t1_test.csv\")"
   ]
  },
  {
   "cell_type": "markdown",
   "id": "7a7acf99",
   "metadata": {},
   "source": [
    "<a id='knn'></a>\n",
    "### K-Nearest Neighbour\n",
    "[Back to models](#mods)\n",
    "\n",
    "For this model, can look later at the effect of converting the continuous variables to categorical variables. \n",
    "\n",
    "For now, all of the columns relating to the specific year and the number of rides need to be removed. Month is left in as a measure of the season in the year. Each of the label columns can be tested as the target variable. All of the Boolean variables should be converted to one hot encoding."
   ]
  },
  {
   "cell_type": "code",
   "execution_count": 47,
   "id": "cbb6f442",
   "metadata": {},
   "outputs": [],
   "source": [
    "train_target_a = train_new['label3']\n",
    "train_target_b = train_new['label5']\n",
    "valid_target_a = valid_new['label3']\n",
    "valid_target_b = valid_new['label5']\n",
    "test_target_a = test_new['label3']\n",
    "test_target_b = test_new['label5']\n",
    "\n",
    "train_1 = train_new.drop(columns=['rides_count', 'label3', 'label5', 'year', 'day'])\n",
    "valid_1 = valid_new.drop(columns=['rides_count', 'label3', 'label5', 'year', 'day'])\n",
    "test_1 = test_new.drop(columns=['rides_count', 'label3', 'label5', 'year', 'day'])"
   ]
  },
  {
   "cell_type": "markdown",
   "id": "7dbac115",
   "metadata": {},
   "source": [
    "Now the first models can be built."
   ]
  },
  {
   "cell_type": "code",
   "execution_count": 45,
   "id": "c2c7889c",
   "metadata": {},
   "outputs": [
    {
     "data": {
      "text/plain": [
       "0.63125"
      ]
     },
     "metadata": {},
     "output_type": "display_data"
    },
    {
     "data": {
      "text/plain": [
       "0.45875000000000005"
      ]
     },
     "metadata": {},
     "output_type": "display_data"
    }
   ],
   "source": [
    "# create the ColumnTransformer\n",
    "preprocessor = ColumnTransformer(\n",
    "    transformers=[\n",
    "        ('scaler', preprocessing.StandardScaler(), ['mean_temperature', 'total_precipitation']),\n",
    "        ('encoder', preprocessing.OneHotEncoder(), ['am_pm', 'isHoliday', 'isWeekend', 'month']) ])\n",
    "\n",
    "# choose the estimator and define a pipeline\n",
    "estimator = KNeighborsClassifier(n_neighbors=15)\n",
    "pipeline = Pipeline([ ('preprocessing', preprocessor), ('classification', estimator) ])\n",
    "\n",
    "# cross validate the pipeline\n",
    "cv = StratifiedKFold(n_splits=10, shuffle=True, random_state=33)\n",
    "accuracy = cross_val_score(pipeline, train_1, train_target_a, cv=cv, scoring='accuracy')\n",
    "accuracy2 = cross_val_score(pipeline, train_1, train_target_b, cv=cv, scoring='accuracy')\n",
    "display(accuracy.mean(), accuracy2.mean())"
   ]
  },
  {
   "cell_type": "code",
   "execution_count": 48,
   "id": "6fc10c08",
   "metadata": {},
   "outputs": [],
   "source": [
    "import itertools\n",
    "import matplotlib.pyplot as plt\n",
    "import numpy as np\n",
    "def plot_confusion_matrix(cm, classes,\n",
    "                          normalize=False,\n",
    "                          title='Confusion matrix',\n",
    "                          cmap=plt.cm.Blues):\n",
    "    \"\"\"\n",
    "    This function prints and plots the confusion matrix.\n",
    "    Normalization can be applied by setting `normalize=True`.\n",
    "    \"\"\"\n",
    "    if normalize:\n",
    "        cm = cm.astype('float') / cm.sum(axis=1)[:, np.newaxis]\n",
    "\n",
    "    plt.imshow(cm, interpolation='nearest', cmap=cmap)\n",
    "    plt.title(title)\n",
    "    plt.colorbar()\n",
    "    tick_marks = np.arange(len(classes))\n",
    "    plt.xticks(tick_marks, classes, rotation=45)\n",
    "    plt.yticks(tick_marks, classes)\n",
    "\n",
    "    fmt = '.2f' if normalize else 'd'\n",
    "    thresh = cm.max() / 2.\n",
    "    for i, j in itertools.product(range(cm.shape[0]), range(cm.shape[1])):\n",
    "        plt.text(j, i, format(cm[i, j], fmt),\n",
    "                 horizontalalignment=\"center\",\n",
    "                 color=\"white\" if cm[i, j] > thresh else \"black\")\n",
    "\n",
    "    plt.ylabel('True label')\n",
    "    plt.xlabel('Predicted label')\n",
    "    plt.tight_layout()"
   ]
  },
  {
   "cell_type": "code",
   "execution_count": 55,
   "id": "65f98abd",
   "metadata": {},
   "outputs": [
    {
     "data": {
      "image/png": "[encoded data removed]",
      "text/plain": [
       "<Figure size 640x480 with 2 Axes>"
      ]
     },
     "metadata": {},
     "output_type": "display_data"
    }
   ],
   "source": [
    "pipeline.fit(train_1, train_target_a)\n",
    "test_predict = pipeline.predict(test_1)\n",
    "\n",
    "cnf_matrix = confusion_matrix(test_target_a, test_predict)\n",
    "np.set_printoptions(precision=2)\n",
    "plot_confusion_matrix(cnf_matrix, classes=['Low', 'Medium', 'High'])"
   ]
  },
  {
   "cell_type": "code",
   "execution_count": null,
   "id": "cc387009",
   "metadata": {},
   "outputs": [],
   "source": []
  },
  {
   "cell_type": "code",
   "execution_count": null,
   "id": "aae3e6fe",
   "metadata": {},
   "outputs": [],
   "source": []
  }
 ],
 "metadata": {
  "kernelspec": {
   "display_name": "Python 3 (ipykernel)",
   "language": "python",
   "name": "python3"
  },
  "language_info": {
   "codemirror_mode": {
    "name": "ipython",
    "version": 3
   },
   "file_extension": ".py",
   "mimetype": "text/x-python",
   "name": "python",
   "nbconvert_exporter": "python",
   "pygments_lexer": "ipython3",
   "version": "3.9.13"
  }
 },
 "nbformat": 4,
 "nbformat_minor": 5
}
