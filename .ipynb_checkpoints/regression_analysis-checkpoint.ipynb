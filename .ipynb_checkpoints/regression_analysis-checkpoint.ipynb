{
 "cells": [
  {
   "cell_type": "code",
   "execution_count": 133,
   "id": "2ef098fd-ee40-4773-97a8-8c1b70ff6384",
   "metadata": {},
   "outputs": [],
   "source": [
    "import pandas as pd\n",
    "import matplotlib.pyplot as plt\n",
    "import numpy as np\n",
    "from numpy import cos, sin, arcsin, sqrt\n",
    "from math import radians\n",
    "from datetime import date\n",
    "import holidays\n",
    "from sklearn.cluster import KMeans\n",
    "from scipy import stats\n",
    "import matplotlib.pyplot as plt\n",
    "\n",
    "from sklearn.model_selection import train_test_split\n",
    "from sklearn.ensemble import RandomForestRegressor, GradientBoostingRegressor\n",
    "from sklearn.metrics import mean_squared_error\n",
    "\n",
    "import tensorflow as tf\n",
    "from tensorflow.keras.models import Sequential\n",
    "from tensorflow.keras.layers import Dense\n",
    "from sklearn.preprocessing import StandardScaler, OneHotEncoder, MinMaxScaler\n",
    "\n",
    "from catboost import CatBoostRegressor\n",
    "from sklearn.model_selection import train_test_split"
   ]
  },
  {
   "cell_type": "markdown",
   "id": "c1d10650-768f-4a33-8a23-c541d3cf7d9a",
   "metadata": {},
   "source": [
    "## Train, test and validation split"
   ]
  },
  {
   "cell_type": "code",
   "execution_count": 134,
   "id": "3e234c50-a401-4ca2-a907-9709ef5a213b",
   "metadata": {},
   "outputs": [],
   "source": [
    "df_train = pd.read_csv(\"data/regression_analysis/pre_task2_2014_2018.csv\", index_col=0)\n",
    "date_train = df_train['start_date']\n",
    "df_train = df_train.drop([\"start_date\"], axis=1)\n",
    "\n",
    "df_valid = pd.read_csv(\"data/regression_analysis/pre_task2_2019.csv\", index_col=0)\n",
    "date_valid = df_valid['start_date']\n",
    "df_valid = df_valid.drop([\"start_date\"], axis=1)\n",
    "\n",
    "df_test = pd.read_csv(\"data/regression_analysis/pre_task2_2022.csv\", index_col=0)\n",
    "date_test = df_test['start_date']\n",
    "df_test = df_test.drop([\"start_date\"], axis=1)\n",
    "\n",
    "def df_split(train, valid, test):\n",
    "    X_train = train.copy()\n",
    "    y_train = X_train['count']\n",
    "    X_train = X_train.drop([\"count\", 'duration_sec'], axis=1)\n",
    "    \n",
    "    X_valid = valid.copy()\n",
    "    y_valid = X_valid['count']\n",
    "    X_valid = X_valid.drop([\"count\", 'duration_sec'], axis=1)\n",
    "    \n",
    "    X_test = test.copy()\n",
    "    y_test = X_test['count']\n",
    "    X_test = X_test.drop([\"count\", 'duration_sec'], axis=1)\n",
    "    \n",
    "    return X_train, y_train, X_valid, y_valid, X_test, y_test\n",
    "\n",
    "X_train, y_train, X_valid, y_valid, X_test, y_test = df_split(df_train, df_valid, df_test)\n"
   ]
  },
  {
   "cell_type": "markdown",
   "id": "46535f9e-28c8-48ee-a7bb-75797f41acf2",
   "metadata": {},
   "source": [
    "## Modelling\n",
    "\n",
    "In the following block we have made functions for 4 different models:\n",
    "- RandomForrestRegressor\n",
    "- GradientBoostingRegressor\n",
    "- TensorFlow\n",
    "- CatBoost"
   ]
  },
  {
   "cell_type": "code",
   "execution_count": null,
   "id": "6bf0ac1d-7dfb-4a33-a220-b4f329504885",
   "metadata": {
    "scrolled": true
   },
   "outputs": [],
   "source": [
    "def random_forrest_regressor(train, valid, test):\n",
    "    X_train, y_train, X_valid, y_valid, X_test, y_test = df_split(train, valid, test)\n",
    "\n",
    "    X_train = pd.concat([X_train, X_valid])\n",
    "    y_train = pd.concat([y_train, y_valid])\n",
    "    \n",
    "    model = RandomForestRegressor()\n",
    "    model.fit(X_train, y_train)\n",
    "    y_pred = model.predict(X_test)\n",
    "\n",
    "    res = X_test.copy()\n",
    "    res[\"actual\"] = y_test\n",
    "    res[\"pred\"] = y_pred\n",
    "    \n",
    "    res.to_csv(\"results/pred_random_forrest_regressor_all.csv\")\n",
    "    return model, res\n",
    "\n",
    "def gradient_boosting_regression(train, valid, test):\n",
    "    X_train, y_train, X_valid, y_valid, X_test, y_test = df_split(train, valid, test)\n",
    "    \n",
    "    X_train = pd.concat([X_train, X_valid])\n",
    "    y_train = pd.concat([y_train, y_valid])\n",
    "    \n",
    "    model = GradientBoostingRegressor()\n",
    "    model.fit(X_train, y_train)\n",
    "    y_pred = model.predict(X_test)\n",
    "\n",
    "    res = X_test.copy()\n",
    "    res[\"actual\"] = y_test\n",
    "    res[\"pred\"] = y_pred\n",
    "    \n",
    "    res.to_csv(\"results/pred_gradient_boosting_regressor_all.csv\")\n",
    "    return model, res\n",
    "\n",
    "def tensor_flow(train, valid, test):\n",
    "    \n",
    "    def model_prep(train, valid, test):\n",
    "        df_train = train.copy()\n",
    "        df_valid = valid.copy()\n",
    "        df_test = test.copy()\n",
    "        \n",
    "        # One hot encoding of Boolean variables\n",
    "        encoder = OneHotEncoder()\n",
    "        encoded = pd.DataFrame(encoder.fit_transform(df_train[['is_holiday', 'is_weekend']]).toarray(), columns=encoder.get_feature_names_out(['is_holiday', 'is_weekend']))\n",
    "        df_train = df_train.drop(columns=['is_holiday', 'is_weekend'])\n",
    "        df_train = df_train.join(encoded)\n",
    "        encoded = pd.DataFrame(encoder.transform(df_valid[['is_holiday', 'is_weekend']]).toarray(), columns=encoder.get_feature_names_out(['is_holiday', 'is_weekend']))\n",
    "        df_valid = df_valid.drop(columns=['is_holiday', 'is_weekend'])\n",
    "        df_valid = df_valid.join(encoded)\n",
    "        encoded = pd.DataFrame(encoder.transform(df_test[['is_holiday', 'is_weekend']]).toarray(), columns=encoder.get_feature_names_out(['is_holiday', 'is_weekend']))\n",
    "        df_test = df_test.drop(columns=['is_holiday', 'is_weekend'])\n",
    "        df_test = df_test.join(encoded)\n",
    "        \n",
    "        # Standard scaler for continuous variables\n",
    "        scaler = StandardScaler()\n",
    "        df_train[['duration_sec', 'mean_temperature', 'total_precipitation']] = scaler.fit_transform(df_train[['duration_sec', 'mean_temperature', 'total_precipitation']])\n",
    "        df_valid[['duration_sec', 'mean_temperature', 'total_precipitation']] = scaler.transform(df_valid[['duration_sec', 'mean_temperature', 'total_precipitation']])\n",
    "        df_test[['duration_sec', 'mean_temperature', 'total_precipitation']] = scaler.transform(df_test[['duration_sec', 'mean_temperature', 'total_precipitation']])\n",
    "        \n",
    "        # Minmax scaler for station cluster ids\n",
    "        scaler = MinMaxScaler()\n",
    "        df_train[['start_station_cluster', 'end_station_cluster']] = scaler.fit_transform(df_train[['start_station_cluster', 'end_station_cluster']])\n",
    "        df_valid[['start_station_cluster', 'end_station_cluster']] = scaler.transform(df_valid[['start_station_cluster', 'end_station_cluster']])\n",
    "        df_test[['start_station_cluster', 'end_station_cluster']] = scaler.transform(df_test[['start_station_cluster', 'end_station_cluster']])\n",
    "        \n",
    "        return df_train, df_valid, df_test\n",
    "    \n",
    "    train, valid, test = model_prep(train, valid, test)\n",
    "    X_train, y_train, X_valid, y_valid, X_test, y_test = df_split(train, valid, test)\n",
    "    \n",
    "    model = Sequential()\n",
    "    model.add(Dense(64, activation='relu', input_shape=(X_train.shape[1],)))\n",
    "    model.add(Dense(32, activation='relu'))\n",
    "    model.add(Dense(1, activation='linear'))\n",
    "    model.compile(optimizer='adam', loss='mean_squared_error')\n",
    "    model.fit(X_train, y_train, epochs=20, batch_size=64, validation_data=(X_valid, y_valid))\n",
    "\n",
    "    y_pred = model.predict(X_test)\n",
    "    \n",
    "    res = X_test.copy()\n",
    "    res[\"actual\"] = y_test\n",
    "    res[\"pred\"] = y_pred\n",
    "    \n",
    "    res.to_csv(\"results/pred_tensorflow_all.csv\")\n",
    "    return model, res\n",
    "\n",
    "def cat_boost(train, valid, test):\n",
    "    X_train, y_train, X_valid, y_valid, X_test, y_test = df_split(train, valid, test)\n",
    "\n",
    "    X_train = pd.concat([X_train, X_valid])\n",
    "    y_train = pd.concat([y_train, y_valid])\n",
    "    \n",
    "    model = CatBoostRegressor()\n",
    "    model.fit(X_train, y_train)\n",
    "\n",
    "    y_pred = model.predict(X_test)\n",
    "    \n",
    "    res = X_test.copy()\n",
    "    res[\"actual\"] = y_test\n",
    "    res[\"pred\"] = y_pred\n",
    "    \n",
    "    res.to_csv(\"results/pred_cat_boost_all.csv\")\n",
    "    return model, res\n",
    "\n",
    "rfr_mod, rfr_res = random_forrest_regressor(df_train, df_valid, df_test)\n",
    "gbr_mod, gbr_res = gradient_boosting_regression(df_train, df_valid, df_test)\n",
    "tsf_mod, tsf_res = tensor_flow(df_train, df_valid, df_test)\n",
    "cbt_mod, cbt_res = cat_boost(df_train, df_valid, df_test)"
   ]
  },
  {
   "cell_type": "markdown",
   "id": "dcfed01a-6146-4f15-b972-614422c732a0",
   "metadata": {},
   "source": [
    "## Evaluating the models"
   ]
  },
  {
   "cell_type": "code",
   "execution_count": 136,
   "id": "a45da095-6f0c-4d62-b6b7-5e474b583fea",
   "metadata": {},
   "outputs": [
    {
     "name": "stdout",
     "output_type": "stream",
     "text": [
      "                        Model       RMSE          MSE   \n",
      "0    Random Forrest Regressor  51.140428  2615.343354  \\\n",
      "1  GradientBoosting Regressor  85.247879  7267.200816   \n",
      "2                  TensorFlow  85.037979  7231.457791   \n",
      "3                    CatBoost  60.481705  3658.036639   \n",
      "\n",
      "   Correlation Coefficient  R-squared  \n",
      "0                 0.928097   0.695198  \n",
      "1                 0.506357   0.153054  \n",
      "2                 0.446175   0.157220  \n",
      "3                 0.879918   0.573679  \n"
     ]
    }
   ],
   "source": [
    "from sklearn.metrics import mean_squared_error\n",
    "from scipy.stats import pearsonr\n",
    "from sklearn.metrics import r2_score\n",
    "\n",
    "def evaluate(df):\n",
    "    actual_values = df['actual']\n",
    "    predicted_values = df['pred']\n",
    "    \n",
    "    mse = mean_squared_error(actual_values, predicted_values)\n",
    "    rmse = np.sqrt(mse)\n",
    "    correlation_coefficient, p_value = pearsonr(actual_values, predicted_values)\n",
    "    r2 = r2_score(actual_values, predicted_values)\n",
    "    \n",
    "    return rmse, mse, correlation_coefficient, r2\n",
    "\n",
    "def compare_results(all_results):    \n",
    "    results = []\n",
    "    for name, df in all_results.items():\n",
    "        rmse, mse, correlation_coefficient, r2 = evaluate(df)\n",
    "        result = {\n",
    "            'Model': name,\n",
    "            'RMSE': rmse,\n",
    "            'MSE': mse,\n",
    "            'Correlation Coefficient': correlation_coefficient,\n",
    "            'R-squared': r2\n",
    "        }\n",
    "        results.append(result)\n",
    "    \n",
    "    results_df = pd.DataFrame(results)\n",
    "    results_df.to_csv(\"results/evaluations.csv\")\n",
    "    return results_df\n",
    "\n",
    "all_results = {\n",
    "    \"Random Forrest Regressor\": rfr_res,\n",
    "    \"GradientBoosting Regressor\": gbr_res,\n",
    "    \"TensorFlow\": tsf_res,\n",
    "    \"CatBoost\": cbt_res\n",
    "}\n",
    "\n",
    "print(compare_results(all_results))"
   ]
  },
  {
   "cell_type": "markdown",
   "id": "75418527-3ee4-420f-9180-03136a336a5f",
   "metadata": {},
   "source": [
    "## Hyperparametertuning (RandomForestRegressor)"
   ]
  },
  {
   "cell_type": "code",
   "execution_count": 6,
   "id": "d3c97b88-ff2d-40b8-a6bd-7310c55be1e3",
   "metadata": {
    "scrolled": true
   },
   "outputs": [
    {
     "name": "stderr",
     "output_type": "stream",
     "text": [
      "/Users/fabian/Repos/datamining/data_mining_project/.venv/lib/python3.9/site-packages/sklearn/ensemble/_forest.py:413: FutureWarning: `max_features='auto'` has been deprecated in 1.1 and will be removed in 1.3. To keep the past behaviour, explicitly set `max_features=1.0` or remove this parameter as it is also the default value for RandomForestRegressors and ExtraTreesRegressors.\n",
      "  warn(\n",
      "/Users/fabian/Repos/datamining/data_mining_project/.venv/lib/python3.9/site-packages/sklearn/ensemble/_forest.py:413: FutureWarning: `max_features='auto'` has been deprecated in 1.1 and will be removed in 1.3. To keep the past behaviour, explicitly set `max_features=1.0` or remove this parameter as it is also the default value for RandomForestRegressors and ExtraTreesRegressors.\n",
      "  warn(\n",
      "/Users/fabian/Repos/datamining/data_mining_project/.venv/lib/python3.9/site-packages/sklearn/ensemble/_forest.py:413: FutureWarning: `max_features='auto'` has been deprecated in 1.1 and will be removed in 1.3. To keep the past behaviour, explicitly set `max_features=1.0` or remove this parameter as it is also the default value for RandomForestRegressors and ExtraTreesRegressors.\n",
      "  warn(\n",
      "/Users/fabian/Repos/datamining/data_mining_project/.venv/lib/python3.9/site-packages/sklearn/ensemble/_forest.py:413: FutureWarning: `max_features='auto'` has been deprecated in 1.1 and will be removed in 1.3. To keep the past behaviour, explicitly set `max_features=1.0` or remove this parameter as it is also the default value for RandomForestRegressors and ExtraTreesRegressors.\n",
      "  warn(\n",
      "/Users/fabian/Repos/datamining/data_mining_project/.venv/lib/python3.9/site-packages/sklearn/ensemble/_forest.py:413: FutureWarning: `max_features='auto'` has been deprecated in 1.1 and will be removed in 1.3. To keep the past behaviour, explicitly set `max_features=1.0` or remove this parameter as it is also the default value for RandomForestRegressors and ExtraTreesRegressors.\n",
      "  warn(\n",
      "/Users/fabian/Repos/datamining/data_mining_project/.venv/lib/python3.9/site-packages/sklearn/ensemble/_forest.py:413: FutureWarning: `max_features='auto'` has been deprecated in 1.1 and will be removed in 1.3. To keep the past behaviour, explicitly set `max_features=1.0` or remove this parameter as it is also the default value for RandomForestRegressors and ExtraTreesRegressors.\n",
      "  warn(\n",
      "/Users/fabian/Repos/datamining/data_mining_project/.venv/lib/python3.9/site-packages/sklearn/ensemble/_forest.py:413: FutureWarning: `max_features='auto'` has been deprecated in 1.1 and will be removed in 1.3. To keep the past behaviour, explicitly set `max_features=1.0` or remove this parameter as it is also the default value for RandomForestRegressors and ExtraTreesRegressors.\n",
      "  warn(\n",
      "/Users/fabian/Repos/datamining/data_mining_project/.venv/lib/python3.9/site-packages/sklearn/ensemble/_forest.py:413: FutureWarning: `max_features='auto'` has been deprecated in 1.1 and will be removed in 1.3. To keep the past behaviour, explicitly set `max_features=1.0` or remove this parameter as it is also the default value for RandomForestRegressors and ExtraTreesRegressors.\n",
      "  warn(\n",
      "/Users/fabian/Repos/datamining/data_mining_project/.venv/lib/python3.9/site-packages/sklearn/ensemble/_forest.py:413: FutureWarning: `max_features='auto'` has been deprecated in 1.1 and will be removed in 1.3. To keep the past behaviour, explicitly set `max_features=1.0` or remove this parameter as it is also the default value for RandomForestRegressors and ExtraTreesRegressors.\n",
      "  warn(\n",
      "/Users/fabian/Repos/datamining/data_mining_project/.venv/lib/python3.9/site-packages/sklearn/ensemble/_forest.py:413: FutureWarning: `max_features='auto'` has been deprecated in 1.1 and will be removed in 1.3. To keep the past behaviour, explicitly set `max_features=1.0` or remove this parameter as it is also the default value for RandomForestRegressors and ExtraTreesRegressors.\n",
      "  warn(\n",
      "/Users/fabian/Repos/datamining/data_mining_project/.venv/lib/python3.9/site-packages/sklearn/ensemble/_forest.py:413: FutureWarning: `max_features='auto'` has been deprecated in 1.1 and will be removed in 1.3. To keep the past behaviour, explicitly set `max_features=1.0` or remove this parameter as it is also the default value for RandomForestRegressors and ExtraTreesRegressors.\n",
      "  warn(\n"
     ]
    },
    {
     "name": "stdout",
     "output_type": "stream",
     "text": [
      "Best Hyperparameters: {'n_estimators': 100, 'min_samples_split': 10, 'min_samples_leaf': 2, 'max_features': 'auto', 'max_depth': None}\n",
      "Best Score: -419.3617432098575\n"
     ]
    }
   ],
   "source": [
    "from sklearn.ensemble import RandomForestRegressor\n",
    "from sklearn.model_selection import RandomizedSearchCV\n",
    "from sklearn.metrics import mean_squared_error, make_scorer\n",
    "\n",
    "def hpt_random_forrest(X_train, y_train, X_test, y_test):\n",
    "    param_grid = {\n",
    "        'n_estimators': [100, 200, 300],\n",
    "        'max_depth': [None, 5, 10, 15],\n",
    "        'min_samples_split': [2, 5, 10],\n",
    "        'min_samples_leaf': [1, 2, 4],\n",
    "        'max_features': ['auto', 'sqrt']\n",
    "    }\n",
    "    \n",
    "    rf = RandomForestRegressor(random_state=42)\n",
    "    \n",
    "    scorer = make_scorer(mean_squared_error, greater_is_better=False)\n",
    "    \n",
    "    random_search = RandomizedSearchCV(\n",
    "        rf, param_distributions=param_grid, n_iter=5, scoring=scorer, cv=5, random_state=42\n",
    "    )\n",
    "\n",
    "    random_search.fit(X_train, y_train)\n",
    "    \n",
    "    best_model = random_search.best_estimator_\n",
    "    best_params = random_search.best_params_\n",
    "    best_score = random_search.best_score_\n",
    "    \n",
    "    print(\"Best Hyperparameters:\", best_params)\n",
    "    print(\"Best Score:\", best_score)\n",
    "    \n",
    "    return best_model\n",
    "\n",
    "best_model = hpt_random_forrest(X_train, y_train, X_valid, y_valid)"
   ]
  },
  {
   "cell_type": "code",
   "execution_count": 137,
   "id": "1a00fdcf-4a3a-42e3-8409-a1e90cac7aaa",
   "metadata": {},
   "outputs": [
    {
     "name": "stderr",
     "output_type": "stream",
     "text": [
      "/Users/fabian/Repos/datamining/data_mining_project/.venv/lib/python3.9/site-packages/sklearn/ensemble/_forest.py:413: FutureWarning: `max_features='auto'` has been deprecated in 1.1 and will be removed in 1.3. To keep the past behaviour, explicitly set `max_features=1.0` or remove this parameter as it is also the default value for RandomForestRegressors and ExtraTreesRegressors.\n",
      "  warn(\n"
     ]
    },
    {
     "name": "stdout",
     "output_type": "stream",
     "text": [
      "                Model       RMSE          MSE  Correlation Coefficient   \n",
      "0          Best model  51.010210  2602.041503                 0.934137  \\\n",
      "1  Default parameters  51.140428  2615.343354                 0.928097   \n",
      "\n",
      "   R-squared  \n",
      "0   0.696749  \n",
      "1   0.695198  \n"
     ]
    }
   ],
   "source": [
    "X_train_combined = pd.concat([X_train, X_valid])\n",
    "y_train_combined = pd.concat([y_train, y_valid])\n",
    "\n",
    "new_best_model = best_model.fit(X_train_combined, y_train_combined)\n",
    "new_predictions = new_best_model.predict(X_test)\n",
    "\n",
    "res = X_test.copy()\n",
    "res[\"actual\"] = y_test\n",
    "res[\"pred\"] = new_predictions\n",
    "\n",
    "hpt_comparison = {\n",
    "    \"Best model\": res,\n",
    "    \"Default parameters\": rfr_res\n",
    "}\n",
    "\n",
    "print(compare_results(hpt_comparison))"
   ]
  },
  {
   "cell_type": "markdown",
   "id": "485a9ae7-9cd3-4095-807e-98feab4f3dfa",
   "metadata": {},
   "source": [
    "### Baseline"
   ]
  },
  {
   "cell_type": "code",
   "execution_count": 86,
   "id": "0537fd0c-54a8-4d97-9367-22a0f51c9404",
   "metadata": {},
   "outputs": [
    {
     "name": "stdout",
     "output_type": "stream",
     "text": [
      "                   Model       RMSE          MSE  Correlation Coefficient   \n",
      "0  Hyperparameter tuning  51.010210  2602.041503                 0.934137  \\\n",
      "1     Default parameters  60.312611  3637.611034                 0.856128   \n",
      "2               Baseline  56.329891  3173.056594                 0.926345   \n",
      "\n",
      "   R-squared  \n",
      "0   0.696749  \n",
      "1   0.576060  \n",
      "2   0.651306  \n"
     ]
    }
   ],
   "source": [
    "def baseline(X_train, y_train, X_test, y_test):\n",
    "    baseline = X_test.copy()\n",
    "    baseline[\"count\"] = y_test\n",
    "    baseline = baseline[[\"start_station_cluster\", \"end_station_cluster\", \"count\"]]\n",
    "\n",
    "    traning_df = X_train.copy()\n",
    "    traning_df[\"count\"] = y_train\n",
    "    traning_df = traning_df[[\"start_station_cluster\", \"end_station_cluster\", \"count\"]]\n",
    "    \n",
    "    mean_df = traning_df.groupby([\"start_station_cluster\", \"end_station_cluster\"]).mean()[[\"count\"]]\n",
    "    \n",
    "    merged_df = pd.merge(baseline, mean_df, left_on=['start_station_cluster', 'end_station_cluster'], right_on=['start_station_cluster', 'end_station_cluster'])\n",
    "    merged_df = merged_df.rename(columns={'count_x': 'actual', 'count_y': 'pred'})\n",
    "    \n",
    "    return merged_df\n",
    "\n",
    "baseline_comparison = {\n",
    "    \"Hyperparameter tuning\": res, \n",
    "    \"Default parameters\": rfr_res, \n",
    "    \"Baseline\": baseline(X_train_combined, y_train_combined, X_test, y_test)\n",
    "}\n",
    "\n",
    "print(compare_results(baseline_comparison))"
   ]
  },
  {
   "cell_type": "markdown",
   "id": "96213196-abc4-4889-b936-6b958f47f009",
   "metadata": {},
   "source": [
    "## Error analysis"
   ]
  },
  {
   "cell_type": "markdown",
   "id": "9c3ba511-4794-44cf-9f09-8bfc8006b755",
   "metadata": {},
   "source": [
    "### Feature importance"
   ]
  },
  {
   "cell_type": "code",
   "execution_count": 131,
   "id": "73fa3f87-b4ce-432c-8b48-86d3b869f9cb",
   "metadata": {
    "scrolled": true
   },
   "outputs": [
    {
     "name": "stdout",
     "output_type": "stream",
     "text": [
      "Index(['start_station_cluster', 'end_station_cluster', 'is_holiday',\n",
      "       'is_weekend', 'mean_temperature', 'total_precipitation'],\n",
      "      dtype='object')\n",
      "[9.11741959e-01 9.16933353e-01 7.48650911e-04 7.77137132e-03\n",
      " 3.48968577e-02 1.91392336e-02]\n"
     ]
    },
    {
     "data": {
      "image/png": "[encoded data removed]",
      "text/plain": [
       "<Figure size 640x480 with 1 Axes>"
      ]
     },
     "metadata": {},
     "output_type": "display_data"
    }
   ],
   "source": [
    "from sklearn.inspection import permutation_importance\n",
    "\n",
    "def plot_feature_importance(model, X_test, y_test):\n",
    "    result = permutation_importance(best_model, X_test, y_test, n_repeats=10, random_state=42)\n",
    "    importance = result.importances_mean\n",
    "    feature_names = X_test.columns\n",
    "\n",
    "    print(feature_names)\n",
    "    print(importance)\n",
    "    \n",
    "    plt.barh(feature_names, importance)\n",
    "    \n",
    "    plt.xlabel('Feature Importance')\n",
    "    plt.ylabel('Feature')\n",
    "    plt.title('Feature Importance Plot')\n",
    "    \n",
    "    plt.show()\n",
    "\n",
    "plot_feature_importance(new_best_model, X_test, y_test)\n"
   ]
  },
  {
   "cell_type": "markdown",
   "id": "99e6d81c-ee37-4340-9548-801bd75155c3",
   "metadata": {},
   "source": [
    "### Variations in training and test data"
   ]
  },
  {
   "cell_type": "code",
   "execution_count": 132,
   "id": "dcbe3538-076b-4ae6-b5e5-91d631747f03",
   "metadata": {},
   "outputs": [
    {
     "name": "stdout",
     "output_type": "stream",
     "text": [
      "Number of unseen combinations in test data: 43189\n"
     ]
    }
   ],
   "source": [
    "err_analysis = res.copy()\n",
    "err_analysis[\"relative_error\"] = abs(err_analysis['pred'] - err_analysis['actual']) / err_analysis['actual']\n",
    "err_analysis = err_analysis[[\"start_station_cluster\", \"end_station_cluster\", \"relative_error\"]].copy()\n",
    "err_analysis = err_analysis.groupby([\"start_station_cluster\", \"end_station_cluster\"]).mean()\n",
    "\n",
    "worst_predictions = err_analysis.copy().reset_index().sort_values(\"relative_error\", ascending=False)\n",
    "\n",
    "df_train_copy = pd.concat([df_train, df_valid]).copy()[[\"start_station_cluster\", \"end_station_cluster\", \"count\"]]\n",
    "df_train_copy = df_train_copy.groupby([\"start_station_cluster\", \"end_station_cluster\"]).sum().reset_index()\n",
    "\n",
    "df_test_copy = df_test.copy()[[\"start_station_cluster\", \"end_station_cluster\", \"count\"]]\n",
    "df_test_copy = df_test_copy.groupby([\"start_station_cluster\", \"end_station_cluster\"]).sum().reset_index()\n",
    "\n",
    "compare_stations = pd.merge(df_test_copy, df_train_copy, on=[\"start_station_cluster\", \"end_station_cluster\"], how=\"left\")\n",
    "\n",
    "stations_not_in_training = compare_stations[compare_stations[\"count_y\"].isna()]\n",
    "stations_not_in_training = stations_not_in_training.drop(\"count_x\", axis=1).rename(columns={'count_y': 'in_training'})\n",
    "stations_not_in_training['in_training'].fillna(False, inplace=True)\n",
    "\n",
    "worst_predictions = pd.merge(wors_predictions, stations_not_in_training, on=[\"start_station_cluster\", \"end_station_cluster\"], how=\"left\")\n",
    "\n",
    "error_testing = df_test.copy()\n",
    "error_testing.drop(\"duration_sec\", axis=1, inplace=True)\n",
    "\n",
    "error_testing = pd.merge(error_testing, stations_not_in_training, on=[\"start_station_cluster\", \"end_station_cluster\"], how=\"left\")\n",
    "error_testing[\"in_training\"].fillna(True, inplace=True)\n",
    "before = len(error_testing)\n",
    "error_testing = error_testing[error_testing[\"in_training\"] == True]\n",
    "after = len(error_testing)\n",
    "\n",
    "print(\"Number of unseen combinations in test data: \" + str(before - after))"
   ]
  }
 ],
 "metadata": {
  "kernelspec": {
   "display_name": ".venv",
   "language": "python",
   "name": ".venv"
  },
  "language_info": {
   "codemirror_mode": {
    "name": "ipython",
    "version": 3
   },
   "file_extension": ".py",
   "mimetype": "text/x-python",
   "name": "python",
   "nbconvert_exporter": "python",
   "pygments_lexer": "ipython3",
   "version": "3.9.6"
  }
 },
 "nbformat": 4,
 "nbformat_minor": 5
}
