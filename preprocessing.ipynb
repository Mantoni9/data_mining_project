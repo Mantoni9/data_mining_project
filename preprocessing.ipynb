{
 "cells": [
  {
   "cell_type": "code",
   "execution_count": 1,
   "id": "ea5435bb",
   "metadata": {},
   "outputs": [],
   "source": [
    "import pandas as pd\n",
    "import matplotlib.pyplot as plt\n",
    "import numpy as np\n",
    "from numpy import cos, sin, arcsin, sqrt\n",
    "from math import radians\n",
    "from datetime import date\n",
    "import holidays\n",
    "from haversine import haversine"
   ]
  },
  {
   "cell_type": "code",
   "execution_count": 2,
   "id": "9735d53f",
   "metadata": {},
   "outputs": [],
   "source": [
    "# List with files for stations 2022\n",
    "stations2022_list = ['data/stations_2022/20220104_stations.csv','data/stations_2022/20220105_stations.csv','data/stations_2022/20220106_stations.csv','data/stations_2022/20220107_stations.csv','data/stations_2022/20220108_stations.csv','data/stations_2022/20220109_stations.csv','data/stations_2022/20220110_stations.csv','data/stations_2022/20220111_stations.csv']\n",
    "\n",
    "df_stations_2022 = []\n",
    "\n",
    "for file in stations2022_list:\n",
    "    df = pd.read_csv(file)\n",
    "    df_stations_2022.append(df)\n",
    "\n",
    "# Remove Duplicates\n",
    "df_stations_2022 = pd.concat(df_stations_2022, ignore_index= True)\n",
    "df_stations_2022 = df_stations_2022.drop_duplicates()\n",
    "\n",
    "df_stations_2022.to_csv('data/stations/Stations_2022.csv', index= False)"
   ]
  },
  {
   "cell_type": "code",
   "execution_count": 3,
   "id": "611ca171",
   "metadata": {},
   "outputs": [],
   "source": [
    "import pandas as pd\n",
    "def preprocess_data(rides_file_path, stations_file_path):\n",
    "\n",
    "    df_rides = pd.read_csv(rides_file_path, parse_dates=[0, 2])\n",
    "    df_stations = pd.read_csv(stations_file_path)\n",
    "\n",
    "    df_rides = df_rides.columns.str.lower()\n",
    "    df_stations = df_stations.columns.str.lower()\n",
    "    \n",
    "    # Rename Columns in some Stations files due to inconsistency in naming\n",
    "    if not 'start_station_code' in df_rides.columns:\n",
    "        df_rides = df_rides.rename(columns={'emplacement_pk_start': 'start_station_code',\n",
    "                                        'emplacement_pk_end': 'end_station_code'})\n",
    "\n",
    "    # Problems in Aug 2019 cause station codes aren't of type int\n",
    "    if df_rides['start_station_code'].dtype != 'int':\n",
    "\n",
    "        def to_int_or_Err(val):\n",
    "            try:\n",
    "                return int(val)\n",
    "            except ValueError:\n",
    "                return None\n",
    "\n",
    "        df_rides['start_station_code_int'] = df_rides['start_station_code'].apply(to_int_or_Err)\n",
    "        df_rides['end_station_code_int'] = df_rides['end_station_code'].apply(to_int_or_Err)\n",
    "\n",
    "        # drop every row where station code which couldn't be converted to int\n",
    "        df_rides = df_rides.dropna()\n",
    "        df_rides['start_station_code'] = df_rides['start_station_code_int'].astype(int)\n",
    "        df_rides['end_station_code'] = df_rides['end_station_code_int'].astype(int)\n",
    "        df_rides = df_rides.drop(columns=['start_station_code_int', 'end_station_code_int'])\n",
    "\n",
    "   \n",
    "    # add year, month and weekday\n",
    "    df_rides_count['year'] = df_rides_count['start_date'].dt.year\n",
    "    df_rides_count['month'] = df_rides_count['start_date'].dt.month\n",
    "    df_rides_count['weekday'] = df_rides_count['start_date'].dt.weekday\n",
    "\n",
    "    # Sum up rides between Midnight and 12 and 12:00 AM to Midnight\n",
    "    df_rides_count = df_rides.groupby([pd.Grouper(key='start_date', freq='12h'), 'start_station_code'])['end_date'].count()\n",
    "    df_rides_count = df_rides_count.to_frame().rename(columns={'end_date': 'rides_count'}).reset_index()\n",
    "\n",
    "    # add boolean am/pm (am = 0, pm = 1\n",
    "    df_rides_count['am_pm'] = df_rides_count['start_date'].dt.hour < 12\n",
    "\n",
    "    # add total count of stations per year \n",
    "    df_stations_count = len(df_stations['code'].unique())\n",
    "    df_rides_count['stations_count'] = df_stations_count\n",
    "\n",
    "    # add isHoliday column as boolean\n",
    "    holidaysCanada = holidays.country_holidays('CA', subdiv='QC')\n",
    "    df_rides_count['isHoliday'] = df_rides_count['start_date'].apply(lambda x: x.date() in holidaysCanada)\n",
    "\n",
    "    # add isWeekend column as boolean\n",
    "    df_rides_count['isWeekend'] = df_rides_count['start_date'].dt.weekday > 4\n",
    "\n",
    "    # add distance to center of Montreal\n",
    "    def distanceToCenter(row):\n",
    "        lon1 = -73.554167\n",
    "        lat1 = 45.508888\n",
    "        lon2 = row['longitude']\n",
    "        lat2 = row['latitude']\n",
    "        lon1, lat1, lon2, lat2 = map(radians, [lon1, lat1, lon2, lat2])\n",
    "        dlon = lon2 - lon1 \n",
    "        dlat = lat2 - lat1 \n",
    "        a = sin(dlat/2)**2 + cos(lat1) * cos(lat2) * sin(dlon/2)**2\n",
    "        c = 2 * arcsin(sqrt(a)) \n",
    "        km = 6367 * c\n",
    "        return km\n",
    "    \n",
    "    df_rides_count['distance_to_center'] = df_rides_count.apply(lambda row: distanceToCenter(row), axis=1)\n",
    "\n",
    "    # add weather data\n",
    "    df_weather = pd.read_csv('data/preprocessed_data/weather_wo_covid.csv', parse_dates=[4])\n",
    "    df_weather.columns = df_weather.columns.str.lower()\n",
    "    df_weather = df_weather[[\"date/time\", \"mean temp (°c)\", \"total precip (mm)\"]]\n",
    "    df_weather = df_weather.rename(columns={\"date/time\": \"tmp_date\",'mean temp (°c)': 'mean_temperature','total precip (mm)': 'total_precipitation'})\n",
    "\n",
    "    # interpolate missing data\n",
    "    df_weather[['mean_temperature','total_precipitation']] = df_weather[['mean_temperature','total_precipitation']].interpolate()\n",
    "\n",
    "    # add attribute and join dataframes\n",
    "    df_rides_count['date'] = pd.to_datetime(df_rides_count['start_date'].dt.date)\n",
    "    df_rides_count = df_rides_count.merge(df_weather, left_on='date', right_on='tmp_date')\n",
    "\n",
    "    # drop na colums\n",
    "    df_rides_count = df_rides_count[[\n",
    "        'latitude','longitude','distance_to_center','year','month','weekday','am_pm','isHoliday','isWeekend','mean_temperature','total_precipitation',\n",
    "        'stations_count','rides_count'\n",
    "    ]]\n",
    "\n",
    "    return df_rides_count\n",
    "\n"
   ]
  },
  {
   "cell_type": "code",
   "execution_count": 4,
   "id": "6f6618ea",
   "metadata": {},
   "outputs": [
    {
     "ename": "AttributeError",
     "evalue": "'Index' object has no attribute 'columns'",
     "output_type": "error",
     "traceback": [
      "\u001b[0;31m---------------------------------------------------------------------------\u001b[0m",
      "\u001b[0;31mAttributeError\u001b[0m                            Traceback (most recent call last)",
      "\u001b[1;32m/Users/antoniomarkic/Library/Mobile Documents/com~apple~CloudDocs/1_Universität_Mannheim/01_Semester/2_Semester/Data_Mining/Group_Project/preprocessing.ipynb Zelle 4\u001b[0m in \u001b[0;36m8\n\u001b[1;32m      <a href='vscode-notebook-cell:/Users/antoniomarkic/Library/Mobile%20Documents/com~apple~CloudDocs/1_Universita%CC%88t_Mannheim/01_Semester/2_Semester/Data_Mining/Group_Project/preprocessing.ipynb#W4sZmlsZQ%3D%3D?line=5'>6</a>\u001b[0m \u001b[39mfor\u001b[39;00m month \u001b[39min\u001b[39;00m \u001b[39mrange\u001b[39m(\u001b[39m4\u001b[39m, \u001b[39m11\u001b[39m):\n\u001b[1;32m      <a href='vscode-notebook-cell:/Users/antoniomarkic/Library/Mobile%20Documents/com~apple~CloudDocs/1_Universita%CC%88t_Mannheim/01_Semester/2_Semester/Data_Mining/Group_Project/preprocessing.ipynb#W4sZmlsZQ%3D%3D?line=6'>7</a>\u001b[0m     rides_file_path \u001b[39m=\u001b[39m \u001b[39mf\u001b[39m\u001b[39m'\u001b[39m\u001b[39mdata/bike_rides/OD_\u001b[39m\u001b[39m{\u001b[39;00myear\u001b[39m}\u001b[39;00m\u001b[39m-\u001b[39m\u001b[39m{\u001b[39;00mmonth\u001b[39m:\u001b[39;00m\u001b[39m02d\u001b[39m\u001b[39m}\u001b[39;00m\u001b[39m.csv\u001b[39m\u001b[39m'\u001b[39m\n\u001b[0;32m----> <a href='vscode-notebook-cell:/Users/antoniomarkic/Library/Mobile%20Documents/com~apple~CloudDocs/1_Universita%CC%88t_Mannheim/01_Semester/2_Semester/Data_Mining/Group_Project/preprocessing.ipynb#W4sZmlsZQ%3D%3D?line=7'>8</a>\u001b[0m     df_month \u001b[39m=\u001b[39m preprocess_data(rides_file_path, stations_file_path)\n\u001b[1;32m      <a href='vscode-notebook-cell:/Users/antoniomarkic/Library/Mobile%20Documents/com~apple~CloudDocs/1_Universita%CC%88t_Mannheim/01_Semester/2_Semester/Data_Mining/Group_Project/preprocessing.ipynb#W4sZmlsZQ%3D%3D?line=8'>9</a>\u001b[0m     df_train \u001b[39m=\u001b[39m pd\u001b[39m.\u001b[39mconcat([df_train, df_month])\u001b[39m.\u001b[39mreset_index(drop\u001b[39m=\u001b[39m\u001b[39mTrue\u001b[39;00m)\n\u001b[1;32m     <a href='vscode-notebook-cell:/Users/antoniomarkic/Library/Mobile%20Documents/com~apple~CloudDocs/1_Universita%CC%88t_Mannheim/01_Semester/2_Semester/Data_Mining/Group_Project/preprocessing.ipynb#W4sZmlsZQ%3D%3D?line=9'>10</a>\u001b[0m \u001b[39m# save file\u001b[39;00m\n",
      "\u001b[1;32m/Users/antoniomarkic/Library/Mobile Documents/com~apple~CloudDocs/1_Universität_Mannheim/01_Semester/2_Semester/Data_Mining/Group_Project/preprocessing.ipynb Zelle 4\u001b[0m in \u001b[0;36m1\n\u001b[1;32m      <a href='vscode-notebook-cell:/Users/antoniomarkic/Library/Mobile%20Documents/com~apple~CloudDocs/1_Universita%CC%88t_Mannheim/01_Semester/2_Semester/Data_Mining/Group_Project/preprocessing.ipynb#W4sZmlsZQ%3D%3D?line=7'>8</a>\u001b[0m df_stations \u001b[39m=\u001b[39m df_stations\u001b[39m.\u001b[39mcolumns\u001b[39m.\u001b[39mstr\u001b[39m.\u001b[39mlower()\n\u001b[1;32m     <a href='vscode-notebook-cell:/Users/antoniomarkic/Library/Mobile%20Documents/com~apple~CloudDocs/1_Universita%CC%88t_Mannheim/01_Semester/2_Semester/Data_Mining/Group_Project/preprocessing.ipynb#W4sZmlsZQ%3D%3D?line=9'>10</a>\u001b[0m \u001b[39m# Rename Columns in some Stations files due to inconsistency in naming\u001b[39;00m\n\u001b[0;32m---> <a href='vscode-notebook-cell:/Users/antoniomarkic/Library/Mobile%20Documents/com~apple~CloudDocs/1_Universita%CC%88t_Mannheim/01_Semester/2_Semester/Data_Mining/Group_Project/preprocessing.ipynb#W4sZmlsZQ%3D%3D?line=10'>11</a>\u001b[0m \u001b[39mif\u001b[39;00m \u001b[39mnot\u001b[39;00m \u001b[39m'\u001b[39m\u001b[39mstart_station_code\u001b[39m\u001b[39m'\u001b[39m \u001b[39min\u001b[39;00m df_rides\u001b[39m.\u001b[39;49mcolumns:\n\u001b[1;32m     <a href='vscode-notebook-cell:/Users/antoniomarkic/Library/Mobile%20Documents/com~apple~CloudDocs/1_Universita%CC%88t_Mannheim/01_Semester/2_Semester/Data_Mining/Group_Project/preprocessing.ipynb#W4sZmlsZQ%3D%3D?line=11'>12</a>\u001b[0m     df_rides \u001b[39m=\u001b[39m df_rides\u001b[39m.\u001b[39mrename(columns\u001b[39m=\u001b[39m{\u001b[39m'\u001b[39m\u001b[39memplacement_pk_start\u001b[39m\u001b[39m'\u001b[39m: \u001b[39m'\u001b[39m\u001b[39mstart_station_code\u001b[39m\u001b[39m'\u001b[39m,\n\u001b[1;32m     <a href='vscode-notebook-cell:/Users/antoniomarkic/Library/Mobile%20Documents/com~apple~CloudDocs/1_Universita%CC%88t_Mannheim/01_Semester/2_Semester/Data_Mining/Group_Project/preprocessing.ipynb#W4sZmlsZQ%3D%3D?line=12'>13</a>\u001b[0m                                     \u001b[39m'\u001b[39m\u001b[39memplacement_pk_end\u001b[39m\u001b[39m'\u001b[39m: \u001b[39m'\u001b[39m\u001b[39mend_station_code\u001b[39m\u001b[39m'\u001b[39m})\n\u001b[1;32m     <a href='vscode-notebook-cell:/Users/antoniomarkic/Library/Mobile%20Documents/com~apple~CloudDocs/1_Universita%CC%88t_Mannheim/01_Semester/2_Semester/Data_Mining/Group_Project/preprocessing.ipynb#W4sZmlsZQ%3D%3D?line=14'>15</a>\u001b[0m \u001b[39m# Problems in Aug 2019 cause station codes aren't of type int\u001b[39;00m\n",
      "\u001b[0;31mAttributeError\u001b[0m: 'Index' object has no attribute 'columns'"
     ]
    }
   ],
   "source": [
    "# Training data from year 2014 till 2018\n",
    "\n",
    "df_train = pd.DataFrame()\n",
    "for year in range(2014, 2018):\n",
    "    stations_file_path = f'data/stations/Stations_{year}.csv'\n",
    "    for month in range(4, 11):\n",
    "        rides_file_path = f'data/bike_rides/OD_{year}-{month:02d}.csv'\n",
    "        df_month = preprocess_data(rides_file_path, stations_file_path)\n",
    "        df_train = pd.concat([df_train, df_month]).reset_index(drop=True)\n",
    "    # save file\n",
    "    df_train.to_csv('data/preprocessed_data/train.csv', index=False)"
   ]
  },
  {
   "cell_type": "code",
   "execution_count": 40,
   "id": "450bc282",
   "metadata": {},
   "outputs": [
    {
     "name": "stderr",
     "output_type": "stream",
     "text": [
      "/var/folders/m7/5lh2dbhn42d0kn6456wh8m9h0000gn/T/ipykernel_78660/4272922335.py:7: FutureWarning: The frame.append method is deprecated and will be removed from pandas in a future version. Use pandas.concat instead.\n",
      "  df_rides.append(df1)\n",
      "/var/folders/m7/5lh2dbhn42d0kn6456wh8m9h0000gn/T/ipykernel_78660/4272922335.py:9: FutureWarning: The frame.append method is deprecated and will be removed from pandas in a future version. Use pandas.concat instead.\n",
      "  df_stations.append(df2)\n"
     ]
    },
    {
     "ename": "IndexError",
     "evalue": "only integers, slices (`:`), ellipsis (`...`), numpy.newaxis (`None`) and integer or boolean arrays are valid indices",
     "output_type": "error",
     "traceback": [
      "\u001b[0;31m---------------------------------------------------------------------------\u001b[0m",
      "\u001b[0;31mIndexError\u001b[0m                                Traceback (most recent call last)",
      "\u001b[1;32m/Users/antoniomarkic/Library/Mobile Documents/com~apple~CloudDocs/1_Universität_Mannheim/01_Semester/2_Semester/Data_Mining/Group_Project/preprocessing.ipynb Zelle 5\u001b[0m in \u001b[0;36m7\n\u001b[1;32m      <a href='vscode-notebook-cell:/Users/antoniomarkic/Library/Mobile%20Documents/com~apple~CloudDocs/1_Universita%CC%88t_Mannheim/01_Semester/2_Semester/Data_Mining/Group_Project/preprocessing.ipynb#X12sZmlsZQ%3D%3D?line=4'>5</a>\u001b[0m \u001b[39mfor\u001b[39;00m month \u001b[39min\u001b[39;00m \u001b[39mrange\u001b[39m(\u001b[39m4\u001b[39m, \u001b[39m11\u001b[39m):\n\u001b[1;32m      <a href='vscode-notebook-cell:/Users/antoniomarkic/Library/Mobile%20Documents/com~apple~CloudDocs/1_Universita%CC%88t_Mannheim/01_Semester/2_Semester/Data_Mining/Group_Project/preprocessing.ipynb#X12sZmlsZQ%3D%3D?line=5'>6</a>\u001b[0m     rides_file_path \u001b[39m=\u001b[39m \u001b[39mf\u001b[39m\u001b[39m'\u001b[39m\u001b[39mdata/bike_rides/OD_2019-\u001b[39m\u001b[39m{\u001b[39;00mmonth\u001b[39m:\u001b[39;00m\u001b[39m02d\u001b[39m\u001b[39m}\u001b[39;00m\u001b[39m.csv\u001b[39m\u001b[39m'\u001b[39m\n\u001b[0;32m----> <a href='vscode-notebook-cell:/Users/antoniomarkic/Library/Mobile%20Documents/com~apple~CloudDocs/1_Universita%CC%88t_Mannheim/01_Semester/2_Semester/Data_Mining/Group_Project/preprocessing.ipynb#X12sZmlsZQ%3D%3D?line=6'>7</a>\u001b[0m     df_month \u001b[39m=\u001b[39m preprocess_data(rides_file_path, stations_file_path)\n\u001b[1;32m      <a href='vscode-notebook-cell:/Users/antoniomarkic/Library/Mobile%20Documents/com~apple~CloudDocs/1_Universita%CC%88t_Mannheim/01_Semester/2_Semester/Data_Mining/Group_Project/preprocessing.ipynb#X12sZmlsZQ%3D%3D?line=7'>8</a>\u001b[0m     df_val \u001b[39m=\u001b[39m pd\u001b[39m.\u001b[39mconcat([df_val, df_month])\u001b[39m.\u001b[39mreset_index(drop\u001b[39m=\u001b[39m\u001b[39mTrue\u001b[39;00m)\n\u001b[1;32m      <a href='vscode-notebook-cell:/Users/antoniomarkic/Library/Mobile%20Documents/com~apple~CloudDocs/1_Universita%CC%88t_Mannheim/01_Semester/2_Semester/Data_Mining/Group_Project/preprocessing.ipynb#X12sZmlsZQ%3D%3D?line=8'>9</a>\u001b[0m \u001b[39m# save file\u001b[39;00m\n",
      "\u001b[1;32m/Users/antoniomarkic/Library/Mobile Documents/com~apple~CloudDocs/1_Universität_Mannheim/01_Semester/2_Semester/Data_Mining/Group_Project/preprocessing.ipynb Zelle 5\u001b[0m in \u001b[0;36m2\n\u001b[1;32m     <a href='vscode-notebook-cell:/Users/antoniomarkic/Library/Mobile%20Documents/com~apple~CloudDocs/1_Universita%CC%88t_Mannheim/01_Semester/2_Semester/Data_Mining/Group_Project/preprocessing.ipynb#X12sZmlsZQ%3D%3D?line=11'>12</a>\u001b[0m df_stations \u001b[39m=\u001b[39m df_stations\u001b[39m.\u001b[39mcolumns\u001b[39m.\u001b[39mstr\u001b[39m.\u001b[39mlower()\n\u001b[1;32m     <a href='vscode-notebook-cell:/Users/antoniomarkic/Library/Mobile%20Documents/com~apple~CloudDocs/1_Universita%CC%88t_Mannheim/01_Semester/2_Semester/Data_Mining/Group_Project/preprocessing.ipynb#X12sZmlsZQ%3D%3D?line=13'>14</a>\u001b[0m \u001b[39m# Rename Columns in some Stations files due to inconsistency in naming\u001b[39;00m\n\u001b[1;32m     <a href='vscode-notebook-cell:/Users/antoniomarkic/Library/Mobile%20Documents/com~apple~CloudDocs/1_Universita%CC%88t_Mannheim/01_Semester/2_Semester/Data_Mining/Group_Project/preprocessing.ipynb#X12sZmlsZQ%3D%3D?line=14'>15</a>\u001b[0m \u001b[39m#if not 'start_station_code' in df_rides.columns:\u001b[39;00m\n\u001b[1;32m     <a href='vscode-notebook-cell:/Users/antoniomarkic/Library/Mobile%20Documents/com~apple~CloudDocs/1_Universita%CC%88t_Mannheim/01_Semester/2_Semester/Data_Mining/Group_Project/preprocessing.ipynb#X12sZmlsZQ%3D%3D?line=15'>16</a>\u001b[0m \u001b[39m#    df_rides = df_rides.rename(columns={'emplacement_pk_start': 'start_station_code',\u001b[39;00m\n\u001b[1;32m     <a href='vscode-notebook-cell:/Users/antoniomarkic/Library/Mobile%20Documents/com~apple~CloudDocs/1_Universita%CC%88t_Mannheim/01_Semester/2_Semester/Data_Mining/Group_Project/preprocessing.ipynb#X12sZmlsZQ%3D%3D?line=16'>17</a>\u001b[0m \u001b[39m#                                    'emplacement_pk_end': 'end_station_code'})\u001b[39;00m\n\u001b[1;32m     <a href='vscode-notebook-cell:/Users/antoniomarkic/Library/Mobile%20Documents/com~apple~CloudDocs/1_Universita%CC%88t_Mannheim/01_Semester/2_Semester/Data_Mining/Group_Project/preprocessing.ipynb#X12sZmlsZQ%3D%3D?line=17'>18</a>\u001b[0m \n\u001b[1;32m     <a href='vscode-notebook-cell:/Users/antoniomarkic/Library/Mobile%20Documents/com~apple~CloudDocs/1_Universita%CC%88t_Mannheim/01_Semester/2_Semester/Data_Mining/Group_Project/preprocessing.ipynb#X12sZmlsZQ%3D%3D?line=18'>19</a>\u001b[0m \u001b[39m# Problems in Aug 2019 cause station codes aren't of type int\u001b[39;00m\n\u001b[0;32m---> <a href='vscode-notebook-cell:/Users/antoniomarkic/Library/Mobile%20Documents/com~apple~CloudDocs/1_Universita%CC%88t_Mannheim/01_Semester/2_Semester/Data_Mining/Group_Project/preprocessing.ipynb#X12sZmlsZQ%3D%3D?line=19'>20</a>\u001b[0m \u001b[39mif\u001b[39;00m df_rides[\u001b[39m'\u001b[39;49m\u001b[39mstart_station_code\u001b[39;49m\u001b[39m'\u001b[39;49m]\u001b[39m.\u001b[39mdtype \u001b[39m!=\u001b[39m \u001b[39m'\u001b[39m\u001b[39mint\u001b[39m\u001b[39m'\u001b[39m:\n\u001b[1;32m     <a href='vscode-notebook-cell:/Users/antoniomarkic/Library/Mobile%20Documents/com~apple~CloudDocs/1_Universita%CC%88t_Mannheim/01_Semester/2_Semester/Data_Mining/Group_Project/preprocessing.ipynb#X12sZmlsZQ%3D%3D?line=21'>22</a>\u001b[0m     \u001b[39mdef\u001b[39;00m \u001b[39mto_int_or_Err\u001b[39m(val):\n\u001b[1;32m     <a href='vscode-notebook-cell:/Users/antoniomarkic/Library/Mobile%20Documents/com~apple~CloudDocs/1_Universita%CC%88t_Mannheim/01_Semester/2_Semester/Data_Mining/Group_Project/preprocessing.ipynb#X12sZmlsZQ%3D%3D?line=22'>23</a>\u001b[0m         \u001b[39mtry\u001b[39;00m:\n",
      "File \u001b[0;32m/usr/local/lib/python3.10/site-packages/pandas/core/indexes/base.py:5382\u001b[0m, in \u001b[0;36mIndex.__getitem__\u001b[0;34m(self, key)\u001b[0m\n\u001b[1;32m   5379\u001b[0m     \u001b[39melse\u001b[39;00m:\n\u001b[1;32m   5380\u001b[0m         key \u001b[39m=\u001b[39m np\u001b[39m.\u001b[39masarray(key, dtype\u001b[39m=\u001b[39m\u001b[39mbool\u001b[39m)\n\u001b[0;32m-> 5382\u001b[0m result \u001b[39m=\u001b[39m getitem(key)\n\u001b[1;32m   5383\u001b[0m \u001b[39m# Because we ruled out integer above, we always get an arraylike here\u001b[39;00m\n\u001b[1;32m   5384\u001b[0m \u001b[39mif\u001b[39;00m result\u001b[39m.\u001b[39mndim \u001b[39m>\u001b[39m \u001b[39m1\u001b[39m:\n",
      "\u001b[0;31mIndexError\u001b[0m: only integers, slices (`:`), ellipsis (`...`), numpy.newaxis (`None`) and integer or boolean arrays are valid indices"
     ]
    }
   ],
   "source": [
    "# Validation data from year 2019\n",
    "\n",
    "df_val = pd.DataFrame()\n",
    "stations_file_path = f'data/stations/Stations_2019.csv'\n",
    "for month in range(4, 11):\n",
    "    rides_file_path = f'data/bike_rides/OD_2019-{month:02d}.csv'\n",
    "    df_month = preprocess_data(rides_file_path, stations_file_path)\n",
    "    df_val = pd.concat([df_val, df_month]).reset_index(drop=True)\n",
    "# save file\n",
    "df_val.to_csv('data/preprocessed_data/train.csv', index=False)"
   ]
  },
  {
   "cell_type": "code",
   "execution_count": null,
   "id": "8f6163fd",
   "metadata": {},
   "outputs": [],
   "source": [
    "# Covid data from year 2020 till 2021\n",
    "\n",
    "df_covid = pd.DataFrame()\n",
    "for year in range(2020, 2021):\n",
    "    stations_file_path = f'data/stations/Stations_{year}.csv'\n",
    "    rides_file_path = f'data/bike_rides/OD_{year}.csv'\n",
    "    df_month = preprocess_data(rides_file_path, stations_file_path)\n",
    "    df_covid = pd.concat([df_covid, df_month]).reset_index(drop=True)\n",
    "    # save file\n",
    "    df_covid.to_csv('data/preprocessed_data/train.csv', index=False)"
   ]
  },
  {
   "cell_type": "code",
   "execution_count": 41,
   "id": "cddd3c70",
   "metadata": {},
   "outputs": [
    {
     "name": "stderr",
     "output_type": "stream",
     "text": [
      "/var/folders/m7/5lh2dbhn42d0kn6456wh8m9h0000gn/T/ipykernel_78660/4272922335.py:7: FutureWarning: The frame.append method is deprecated and will be removed from pandas in a future version. Use pandas.concat instead.\n",
      "  df_rides.append(df1)\n",
      "/var/folders/m7/5lh2dbhn42d0kn6456wh8m9h0000gn/T/ipykernel_78660/4272922335.py:9: FutureWarning: The frame.append method is deprecated and will be removed from pandas in a future version. Use pandas.concat instead.\n",
      "  df_stations.append(df2)\n"
     ]
    },
    {
     "ename": "IndexError",
     "evalue": "only integers, slices (`:`), ellipsis (`...`), numpy.newaxis (`None`) and integer or boolean arrays are valid indices",
     "output_type": "error",
     "traceback": [
      "\u001b[0;31m---------------------------------------------------------------------------\u001b[0m",
      "\u001b[0;31mIndexError\u001b[0m                                Traceback (most recent call last)",
      "\u001b[1;32m/Users/antoniomarkic/Library/Mobile Documents/com~apple~CloudDocs/1_Universität_Mannheim/01_Semester/2_Semester/Data_Mining/Group_Project/preprocessing.ipynb Zelle 7\u001b[0m in \u001b[0;36m7\n\u001b[1;32m      <a href='vscode-notebook-cell:/Users/antoniomarkic/Library/Mobile%20Documents/com~apple~CloudDocs/1_Universita%CC%88t_Mannheim/01_Semester/2_Semester/Data_Mining/Group_Project/preprocessing.ipynb#X13sZmlsZQ%3D%3D?line=4'>5</a>\u001b[0m \u001b[39mfor\u001b[39;00m month \u001b[39min\u001b[39;00m \u001b[39mrange\u001b[39m(\u001b[39m4\u001b[39m, \u001b[39m11\u001b[39m):\n\u001b[1;32m      <a href='vscode-notebook-cell:/Users/antoniomarkic/Library/Mobile%20Documents/com~apple~CloudDocs/1_Universita%CC%88t_Mannheim/01_Semester/2_Semester/Data_Mining/Group_Project/preprocessing.ipynb#X13sZmlsZQ%3D%3D?line=5'>6</a>\u001b[0m     rides_file_path \u001b[39m=\u001b[39m \u001b[39mf\u001b[39m\u001b[39m'\u001b[39m\u001b[39mdata/bike_rides/OD_2022-\u001b[39m\u001b[39m{\u001b[39;00mmonth\u001b[39m:\u001b[39;00m\u001b[39m02d\u001b[39m\u001b[39m}\u001b[39;00m\u001b[39m.csv\u001b[39m\u001b[39m'\u001b[39m\n\u001b[0;32m----> <a href='vscode-notebook-cell:/Users/antoniomarkic/Library/Mobile%20Documents/com~apple~CloudDocs/1_Universita%CC%88t_Mannheim/01_Semester/2_Semester/Data_Mining/Group_Project/preprocessing.ipynb#X13sZmlsZQ%3D%3D?line=6'>7</a>\u001b[0m     df_month \u001b[39m=\u001b[39m preprocess_data(rides_file_path, stations_file_path)\n\u001b[1;32m      <a href='vscode-notebook-cell:/Users/antoniomarkic/Library/Mobile%20Documents/com~apple~CloudDocs/1_Universita%CC%88t_Mannheim/01_Semester/2_Semester/Data_Mining/Group_Project/preprocessing.ipynb#X13sZmlsZQ%3D%3D?line=7'>8</a>\u001b[0m     df_test \u001b[39m=\u001b[39m pd\u001b[39m.\u001b[39mconcat([df_test, df_month])\u001b[39m.\u001b[39mreset_index(drop\u001b[39m=\u001b[39m\u001b[39mTrue\u001b[39;00m)\n\u001b[1;32m      <a href='vscode-notebook-cell:/Users/antoniomarkic/Library/Mobile%20Documents/com~apple~CloudDocs/1_Universita%CC%88t_Mannheim/01_Semester/2_Semester/Data_Mining/Group_Project/preprocessing.ipynb#X13sZmlsZQ%3D%3D?line=8'>9</a>\u001b[0m \u001b[39m# save file\u001b[39;00m\n",
      "\u001b[1;32m/Users/antoniomarkic/Library/Mobile Documents/com~apple~CloudDocs/1_Universität_Mannheim/01_Semester/2_Semester/Data_Mining/Group_Project/preprocessing.ipynb Zelle 7\u001b[0m in \u001b[0;36m2\n\u001b[1;32m     <a href='vscode-notebook-cell:/Users/antoniomarkic/Library/Mobile%20Documents/com~apple~CloudDocs/1_Universita%CC%88t_Mannheim/01_Semester/2_Semester/Data_Mining/Group_Project/preprocessing.ipynb#X13sZmlsZQ%3D%3D?line=11'>12</a>\u001b[0m df_stations \u001b[39m=\u001b[39m df_stations\u001b[39m.\u001b[39mcolumns\u001b[39m.\u001b[39mstr\u001b[39m.\u001b[39mlower()\n\u001b[1;32m     <a href='vscode-notebook-cell:/Users/antoniomarkic/Library/Mobile%20Documents/com~apple~CloudDocs/1_Universita%CC%88t_Mannheim/01_Semester/2_Semester/Data_Mining/Group_Project/preprocessing.ipynb#X13sZmlsZQ%3D%3D?line=13'>14</a>\u001b[0m \u001b[39m# Rename Columns in some Stations files due to inconsistency in naming\u001b[39;00m\n\u001b[1;32m     <a href='vscode-notebook-cell:/Users/antoniomarkic/Library/Mobile%20Documents/com~apple~CloudDocs/1_Universita%CC%88t_Mannheim/01_Semester/2_Semester/Data_Mining/Group_Project/preprocessing.ipynb#X13sZmlsZQ%3D%3D?line=14'>15</a>\u001b[0m \u001b[39m#if not 'start_station_code' in df_rides.columns:\u001b[39;00m\n\u001b[1;32m     <a href='vscode-notebook-cell:/Users/antoniomarkic/Library/Mobile%20Documents/com~apple~CloudDocs/1_Universita%CC%88t_Mannheim/01_Semester/2_Semester/Data_Mining/Group_Project/preprocessing.ipynb#X13sZmlsZQ%3D%3D?line=15'>16</a>\u001b[0m \u001b[39m#    df_rides = df_rides.rename(columns={'emplacement_pk_start': 'start_station_code',\u001b[39;00m\n\u001b[1;32m     <a href='vscode-notebook-cell:/Users/antoniomarkic/Library/Mobile%20Documents/com~apple~CloudDocs/1_Universita%CC%88t_Mannheim/01_Semester/2_Semester/Data_Mining/Group_Project/preprocessing.ipynb#X13sZmlsZQ%3D%3D?line=16'>17</a>\u001b[0m \u001b[39m#                                    'emplacement_pk_end': 'end_station_code'})\u001b[39;00m\n\u001b[1;32m     <a href='vscode-notebook-cell:/Users/antoniomarkic/Library/Mobile%20Documents/com~apple~CloudDocs/1_Universita%CC%88t_Mannheim/01_Semester/2_Semester/Data_Mining/Group_Project/preprocessing.ipynb#X13sZmlsZQ%3D%3D?line=17'>18</a>\u001b[0m \n\u001b[1;32m     <a href='vscode-notebook-cell:/Users/antoniomarkic/Library/Mobile%20Documents/com~apple~CloudDocs/1_Universita%CC%88t_Mannheim/01_Semester/2_Semester/Data_Mining/Group_Project/preprocessing.ipynb#X13sZmlsZQ%3D%3D?line=18'>19</a>\u001b[0m \u001b[39m# Problems in Aug 2019 cause station codes aren't of type int\u001b[39;00m\n\u001b[0;32m---> <a href='vscode-notebook-cell:/Users/antoniomarkic/Library/Mobile%20Documents/com~apple~CloudDocs/1_Universita%CC%88t_Mannheim/01_Semester/2_Semester/Data_Mining/Group_Project/preprocessing.ipynb#X13sZmlsZQ%3D%3D?line=19'>20</a>\u001b[0m \u001b[39mif\u001b[39;00m df_rides[\u001b[39m'\u001b[39;49m\u001b[39mstart_station_code\u001b[39;49m\u001b[39m'\u001b[39;49m]\u001b[39m.\u001b[39mdtype \u001b[39m!=\u001b[39m \u001b[39m'\u001b[39m\u001b[39mint\u001b[39m\u001b[39m'\u001b[39m:\n\u001b[1;32m     <a href='vscode-notebook-cell:/Users/antoniomarkic/Library/Mobile%20Documents/com~apple~CloudDocs/1_Universita%CC%88t_Mannheim/01_Semester/2_Semester/Data_Mining/Group_Project/preprocessing.ipynb#X13sZmlsZQ%3D%3D?line=21'>22</a>\u001b[0m     \u001b[39mdef\u001b[39;00m \u001b[39mto_int_or_Err\u001b[39m(val):\n\u001b[1;32m     <a href='vscode-notebook-cell:/Users/antoniomarkic/Library/Mobile%20Documents/com~apple~CloudDocs/1_Universita%CC%88t_Mannheim/01_Semester/2_Semester/Data_Mining/Group_Project/preprocessing.ipynb#X13sZmlsZQ%3D%3D?line=22'>23</a>\u001b[0m         \u001b[39mtry\u001b[39;00m:\n",
      "File \u001b[0;32m/usr/local/lib/python3.10/site-packages/pandas/core/indexes/base.py:5382\u001b[0m, in \u001b[0;36mIndex.__getitem__\u001b[0;34m(self, key)\u001b[0m\n\u001b[1;32m   5379\u001b[0m     \u001b[39melse\u001b[39;00m:\n\u001b[1;32m   5380\u001b[0m         key \u001b[39m=\u001b[39m np\u001b[39m.\u001b[39masarray(key, dtype\u001b[39m=\u001b[39m\u001b[39mbool\u001b[39m)\n\u001b[0;32m-> 5382\u001b[0m result \u001b[39m=\u001b[39m getitem(key)\n\u001b[1;32m   5383\u001b[0m \u001b[39m# Because we ruled out integer above, we always get an arraylike here\u001b[39;00m\n\u001b[1;32m   5384\u001b[0m \u001b[39mif\u001b[39;00m result\u001b[39m.\u001b[39mndim \u001b[39m>\u001b[39m \u001b[39m1\u001b[39m:\n",
      "\u001b[0;31mIndexError\u001b[0m: only integers, slices (`:`), ellipsis (`...`), numpy.newaxis (`None`) and integer or boolean arrays are valid indices"
     ]
    }
   ],
   "source": [
    "# Test data from year 2022\n",
    "\n",
    "df_test = pd.DataFrame()\n",
    "stations_file_path = f'data/stations/Stations_2022.csv'\n",
    "for month in range(4, 11):\n",
    "    rides_file_path = f'data/bike_rides/OD_2022-{month:02d}.csv'\n",
    "    df_month = preprocess_data(rides_file_path, stations_file_path)\n",
    "    df_test = pd.concat([df_test, df_month]).reset_index(drop=True)\n",
    "# save file\n",
    "df_test.to_csv('data/preprocessed_data/train.csv', index=False)"
   ]
  }
 ],
 "metadata": {
  "kernelspec": {
   "display_name": "Python 3 (ipykernel)",
   "language": "python",
   "name": "python3"
  },
  "language_info": {
   "codemirror_mode": {
    "name": "ipython",
    "version": 3
   },
   "file_extension": ".py",
   "mimetype": "text/x-python",
   "name": "python",
   "nbconvert_exporter": "python",
   "pygments_lexer": "ipython3",
   "version": "3.10.8"
  }
 },
 "nbformat": 4,
 "nbformat_minor": 5
}
